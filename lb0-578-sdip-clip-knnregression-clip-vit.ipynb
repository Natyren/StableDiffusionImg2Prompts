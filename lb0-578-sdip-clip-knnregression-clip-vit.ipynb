{
 "cells": [
  {
   "cell_type": "markdown",
   "id": "ff9a9aa8",
   "metadata": {
    "papermill": {
     "duration": 0.011661,
     "end_time": "2023-05-09T10:38:48.228035",
     "exception": false,
     "start_time": "2023-05-09T10:38:48.216374",
     "status": "completed"
    },
    "tags": []
   },
   "source": [
    "# Library"
   ]
  },
  {
   "cell_type": "code",
   "execution_count": 1,
   "id": "78b6fff5",
   "metadata": {
    "execution": {
     "iopub.execute_input": "2023-05-09T10:38:48.254706Z",
     "iopub.status.busy": "2023-05-09T10:38:48.253838Z",
     "iopub.status.idle": "2023-05-09T10:39:08.402621Z",
     "shell.execute_reply": "2023-05-09T10:39:08.401423Z"
    },
    "papermill": {
     "duration": 20.164664,
     "end_time": "2023-05-09T10:39:08.405357",
     "exception": false,
     "start_time": "2023-05-09T10:38:48.240693",
     "status": "completed"
    },
    "tags": []
   },
   "outputs": [
    {
     "name": "stdout",
     "output_type": "stream",
     "text": [
      "\u001b[33mWARNING: Running pip as the 'root' user can result in broken permissions and conflicting behaviour with the system package manager. It is recommended to use a virtual environment instead: https://pip.pypa.io/warnings/venv\u001b[0m\u001b[33m\r\n",
      "\u001b[0m"
     ]
    }
   ],
   "source": [
    "wheels_path = \"/kaggle/input/clip-interrogator-wheels-x\"\n",
    "clip_interrogator_whl_path = f\"{wheels_path}/clip_interrogator-0.4.3-py3-none-any.whl\"\n",
    "!pip install --no-index --find-links $wheels_path $clip_interrogator_whl_path -q"
   ]
  },
  {
   "cell_type": "code",
   "execution_count": 2,
   "id": "1cd033a7",
   "metadata": {
    "execution": {
     "iopub.execute_input": "2023-05-09T10:39:08.432295Z",
     "iopub.status.busy": "2023-05-09T10:39:08.431322Z",
     "iopub.status.idle": "2023-05-09T10:39:12.976060Z",
     "shell.execute_reply": "2023-05-09T10:39:12.974639Z"
    },
    "papermill": {
     "duration": 4.561135,
     "end_time": "2023-05-09T10:39:12.978983",
     "exception": false,
     "start_time": "2023-05-09T10:39:08.417848",
     "status": "completed"
    },
    "tags": []
   },
   "outputs": [],
   "source": [
    "import os, glob, gc\n",
    "import random\n",
    "import numpy as np\n",
    "import pandas as pd\n",
    "import pickle\n",
    "from pathlib import Path\n",
    "from PIL import Image\n",
    "from tqdm.notebook import tqdm\n",
    "from sklearn.preprocessing import normalize\n",
    "import torch\n",
    "from torch import nn\n",
    "from torchvision import transforms\n",
    "import open_clip\n",
    "import warnings\n",
    "warnings.filterwarnings('ignore')\n",
    "from matplotlib import pyplot as plt"
   ]
  },
  {
   "cell_type": "markdown",
   "id": "a1b1f2ec",
   "metadata": {
    "papermill": {
     "duration": 0.012308,
     "end_time": "2023-05-09T10:39:13.005168",
     "exception": false,
     "start_time": "2023-05-09T10:39:12.992860",
     "status": "completed"
    },
    "tags": []
   },
   "source": [
    "# Config"
   ]
  },
  {
   "cell_type": "code",
   "execution_count": 3,
   "id": "6496383a",
   "metadata": {
    "execution": {
     "iopub.execute_input": "2023-05-09T10:39:13.032384Z",
     "iopub.status.busy": "2023-05-09T10:39:13.030759Z",
     "iopub.status.idle": "2023-05-09T10:39:13.037294Z",
     "shell.execute_reply": "2023-05-09T10:39:13.036417Z"
    },
    "papermill": {
     "duration": 0.022043,
     "end_time": "2023-05-09T10:39:13.039679",
     "exception": false,
     "start_time": "2023-05-09T10:39:13.017636",
     "status": "completed"
    },
    "tags": []
   },
   "outputs": [],
   "source": [
    "class CFG:\n",
    "    clip_model_path = \"/kaggle/input/laion-vit-h-14-model/ViT-H-14_laion2b_s32b_b79k.pt\"\n",
    "    clip_preproc_pkl = \"/kaggle/input/laion-vit-h-14-model/preprocess.pkl\"\n",
    "    input_size = 224\n",
    "    batch_size = 64\n",
    "    seed = 42\n",
    "    knn_topk = 100\n",
    "    knn_interval = 1000\n",
    "    knn_dim = 6"
   ]
  },
  {
   "cell_type": "code",
   "execution_count": 4,
   "id": "e4fdc8c5",
   "metadata": {
    "execution": {
     "iopub.execute_input": "2023-05-09T10:39:13.063829Z",
     "iopub.status.busy": "2023-05-09T10:39:13.063550Z",
     "iopub.status.idle": "2023-05-09T10:39:13.130585Z",
     "shell.execute_reply": "2023-05-09T10:39:13.129630Z"
    },
    "papermill": {
     "duration": 0.081872,
     "end_time": "2023-05-09T10:39:13.132884",
     "exception": false,
     "start_time": "2023-05-09T10:39:13.051012",
     "status": "completed"
    },
    "tags": []
   },
   "outputs": [],
   "source": [
    "def seed_everything(seed):\n",
    "    os.environ['PYTHONHASHSEED'] = str(seed)\n",
    "    random.seed(seed)\n",
    "    np.random.seed(seed)\n",
    "    torch.manual_seed(seed)\n",
    "    \n",
    "    if torch.cuda.is_available(): \n",
    "        torch.cuda.manual_seed(seed)\n",
    "        torch.backends.cudnn.deterministic = True\n",
    "\n",
    "seed_everything(CFG.seed)"
   ]
  },
  {
   "cell_type": "code",
   "execution_count": 5,
   "id": "9c7bc480",
   "metadata": {
    "execution": {
     "iopub.execute_input": "2023-05-09T10:39:13.157571Z",
     "iopub.status.busy": "2023-05-09T10:39:13.157259Z",
     "iopub.status.idle": "2023-05-09T10:39:13.161789Z",
     "shell.execute_reply": "2023-05-09T10:39:13.160681Z"
    },
    "papermill": {
     "duration": 0.019258,
     "end_time": "2023-05-09T10:39:13.164041",
     "exception": false,
     "start_time": "2023-05-09T10:39:13.144783",
     "status": "completed"
    },
    "tags": []
   },
   "outputs": [],
   "source": [
    "device = torch.device('cuda' if torch.cuda.is_available() else 'cpu')"
   ]
  },
  {
   "cell_type": "code",
   "execution_count": 6,
   "id": "8241a73f",
   "metadata": {
    "execution": {
     "iopub.execute_input": "2023-05-09T10:39:13.212763Z",
     "iopub.status.busy": "2023-05-09T10:39:13.212249Z",
     "iopub.status.idle": "2023-05-09T10:39:13.216524Z",
     "shell.execute_reply": "2023-05-09T10:39:13.215456Z"
    },
    "papermill": {
     "duration": 0.019154,
     "end_time": "2023-05-09T10:39:13.219033",
     "exception": false,
     "start_time": "2023-05-09T10:39:13.199879",
     "status": "completed"
    },
    "tags": []
   },
   "outputs": [],
   "source": [
    "FILES_OBJECTIVE_EMB = []\n",
    "FILES_CLIP_EMB = []"
   ]
  },
  {
   "cell_type": "code",
   "execution_count": 7,
   "id": "6d22139a",
   "metadata": {
    "execution": {
     "iopub.execute_input": "2023-05-09T10:39:13.243290Z",
     "iopub.status.busy": "2023-05-09T10:39:13.243012Z",
     "iopub.status.idle": "2023-05-09T10:39:13.279262Z",
     "shell.execute_reply": "2023-05-09T10:39:13.278174Z"
    },
    "papermill": {
     "duration": 0.05097,
     "end_time": "2023-05-09T10:39:13.281498",
     "exception": false,
     "start_time": "2023-05-09T10:39:13.230528",
     "status": "completed"
    },
    "tags": []
   },
   "outputs": [
    {
     "name": "stdout",
     "output_type": "stream",
     "text": [
      "140 140\n"
     ]
    }
   ],
   "source": [
    "### DiffusionDB-14M (https://huggingface.co/datasets/poloclub/diffusiondb)\n",
    "# Objective embeddings\n",
    "FILES_OBJECTIVE_EMB += sorted(glob.glob(\"/kaggle/input/pub-embeddings-diffusiondb-14m-part1/all_minilm_l6_v2/*.npy\"))\n",
    "FILES_OBJECTIVE_EMB += sorted(glob.glob(\"/kaggle/input/pub-embeddings-diffusiondb-14m-part2/all_minilm_l6_v2/*.npy\"))\n",
    "FILES_OBJECTIVE_EMB += sorted(glob.glob(\"/kaggle/input/pub-embeddings-diffusiondb-14m-part3/all_minilm_l6_v2/*.npy\"))\n",
    "\n",
    "# CLIP text tembeddings\n",
    "FILES_CLIP_EMB += sorted(glob.glob(\"/kaggle/input/pub-embeddings-diffusiondb-14m-part1/vith14/*.npy\"))\n",
    "FILES_CLIP_EMB += sorted(glob.glob(\"/kaggle/input/pub-embeddings-diffusiondb-14m-part2/vith14/*.npy\"))\n",
    "FILES_CLIP_EMB += sorted(glob.glob(\"/kaggle/input/pub-embeddings-diffusiondb-14m-part3/vith14/*.npy\"))\n",
    "print(len(FILES_OBJECTIVE_EMB), len(FILES_CLIP_EMB))"
   ]
  },
  {
   "cell_type": "code",
   "execution_count": 8,
   "id": "5faf62b7",
   "metadata": {
    "execution": {
     "iopub.execute_input": "2023-05-09T10:39:13.306228Z",
     "iopub.status.busy": "2023-05-09T10:39:13.305957Z",
     "iopub.status.idle": "2023-05-09T10:39:13.316698Z",
     "shell.execute_reply": "2023-05-09T10:39:13.315458Z"
    },
    "papermill": {
     "duration": 0.025754,
     "end_time": "2023-05-09T10:39:13.318891",
     "exception": false,
     "start_time": "2023-05-09T10:39:13.293137",
     "status": "completed"
    },
    "tags": []
   },
   "outputs": [
    {
     "name": "stdout",
     "output_type": "stream",
     "text": [
      "146 146\n"
     ]
    }
   ],
   "source": [
    "# MSCOCO 2017(train data) (https://cocodataset.org/#download)\n",
    "# Objective embeddings\n",
    "FILES_OBJECTIVE_EMB += sorted(glob.glob(\"/kaggle/input/pub-embeddings-mscoco/all_minilm_l6_v2/*.npy\"))\n",
    "\n",
    "# CLIP text tembeddings\n",
    "FILES_CLIP_EMB += sorted(glob.glob(\"/kaggle/input/pub-embeddings-mscoco/vith14/*.npy\"))\n",
    "print(len(FILES_OBJECTIVE_EMB), len(FILES_CLIP_EMB))"
   ]
  },
  {
   "cell_type": "code",
   "execution_count": 9,
   "id": "3eea0079",
   "metadata": {
    "execution": {
     "iopub.execute_input": "2023-05-09T10:39:13.343106Z",
     "iopub.status.busy": "2023-05-09T10:39:13.342837Z",
     "iopub.status.idle": "2023-05-09T10:39:13.348221Z",
     "shell.execute_reply": "2023-05-09T10:39:13.347225Z"
    },
    "papermill": {
     "duration": 0.020035,
     "end_time": "2023-05-09T10:39:13.350478",
     "exception": false,
     "start_time": "2023-05-09T10:39:13.330443",
     "status": "completed"
    },
    "tags": []
   },
   "outputs": [
    {
     "name": "stdout",
     "output_type": "stream",
     "text": [
      "147 147\n"
     ]
    }
   ],
   "source": [
    "# dataset80k (https://www.kaggle.com/competitions/stable-diffusion-image-to-prompts/discussion/390674)\n",
    "# Objective embeddings\n",
    "FILES_OBJECTIVE_EMB.append(\"/kaggle/input/pub-embeddings-dataset80k/all_minilm_l6_v2/prompt_embeddings_allminilm_001.npy\")\n",
    "\n",
    "# CLIP text tembeddings\n",
    "FILES_CLIP_EMB.append(\"/kaggle/input/pub-embeddings-dataset80k/vith14/prompt_embedding_vith14_001.npy\")\n",
    "print(len(FILES_OBJECTIVE_EMB), len(FILES_CLIP_EMB))"
   ]
  },
  {
   "cell_type": "code",
   "execution_count": 10,
   "id": "ab75c81c",
   "metadata": {
    "execution": {
     "iopub.execute_input": "2023-05-09T10:39:13.374843Z",
     "iopub.status.busy": "2023-05-09T10:39:13.374574Z",
     "iopub.status.idle": "2023-05-09T10:39:13.379887Z",
     "shell.execute_reply": "2023-05-09T10:39:13.378882Z"
    },
    "papermill": {
     "duration": 0.020215,
     "end_time": "2023-05-09T10:39:13.382286",
     "exception": false,
     "start_time": "2023-05-09T10:39:13.362071",
     "status": "completed"
    },
    "tags": []
   },
   "outputs": [
    {
     "name": "stdout",
     "output_type": "stream",
     "text": [
      "148 148\n"
     ]
    }
   ],
   "source": [
    "# Dataset30k (https://www.kaggle.com/competitions/stable-diffusion-image-to-prompts/discussion/391500)\n",
    "# Objective embeddings\n",
    "FILES_OBJECTIVE_EMB.append(\"/kaggle/input/pub-embeddings-dataset30k/all_minilm_l6_v2/prompt_embeddings_allminilm_001.npy\")\n",
    "\n",
    "# CLIP text tembeddings\n",
    "FILES_CLIP_EMB.append(\"/kaggle/input/pub-embeddings-dataset30k/vith14/prompt_embedding_vith14_001.npy\")\n",
    "print(len(FILES_OBJECTIVE_EMB), len(FILES_CLIP_EMB))"
   ]
  },
  {
   "cell_type": "code",
   "execution_count": 11,
   "id": "86460273",
   "metadata": {
    "execution": {
     "iopub.execute_input": "2023-05-09T10:39:13.407305Z",
     "iopub.status.busy": "2023-05-09T10:39:13.406529Z",
     "iopub.status.idle": "2023-05-09T10:39:13.417697Z",
     "shell.execute_reply": "2023-05-09T10:39:13.416366Z"
    },
    "papermill": {
     "duration": 0.025729,
     "end_time": "2023-05-09T10:39:13.419757",
     "exception": false,
     "start_time": "2023-05-09T10:39:13.394028",
     "status": "completed"
    },
    "tags": []
   },
   "outputs": [
    {
     "name": "stdout",
     "output_type": "stream",
     "text": [
      "158 158\n"
     ]
    }
   ],
   "source": [
    "# Dataset900k (https://www.kaggle.com/competitions/stable-diffusion-image-to-prompts/discussion/399699)\n",
    "# Objective embeddings\n",
    "FILES_OBJECTIVE_EMB += sorted(glob.glob(\"/kaggle/input/pub-embeddings-dataset900k/all_minilm_l6_v2/*.npy\"))\n",
    "\n",
    "# CLIP text tembeddings\n",
    "FILES_CLIP_EMB += sorted(glob.glob(\"/kaggle/input/pub-embeddings-dataset900k/vith14/*.npy\"))\n",
    "print(len(FILES_OBJECTIVE_EMB), len(FILES_CLIP_EMB))"
   ]
  },
  {
   "cell_type": "code",
   "execution_count": 12,
   "id": "c10eaafa",
   "metadata": {
    "execution": {
     "iopub.execute_input": "2023-05-09T10:39:13.445814Z",
     "iopub.status.busy": "2023-05-09T10:39:13.445031Z",
     "iopub.status.idle": "2023-05-09T10:39:13.458302Z",
     "shell.execute_reply": "2023-05-09T10:39:13.457363Z"
    },
    "papermill": {
     "duration": 0.029092,
     "end_time": "2023-05-09T10:39:13.460559",
     "exception": false,
     "start_time": "2023-05-09T10:39:13.431467",
     "status": "completed"
    },
    "tags": []
   },
   "outputs": [
    {
     "name": "stdout",
     "output_type": "stream",
     "text": [
      "192 192\n"
     ]
    }
   ],
   "source": [
    "# Conceptual Captions\n",
    "# Objective embeddings\n",
    "FILES_OBJECTIVE_EMB += sorted(glob.glob(\"/kaggle/input/pub-embeddings-conceptual-captions/all_minilm_l6_v2/*.npy\"))\n",
    "\n",
    "# CLIP text tembeddings\n",
    "FILES_CLIP_EMB += sorted(glob.glob(\"/kaggle/input/pub-embeddings-conceptual-captions/vith14/*.npy\"))\n",
    "print(len(FILES_OBJECTIVE_EMB), len(FILES_CLIP_EMB))"
   ]
  },
  {
   "cell_type": "code",
   "execution_count": 13,
   "id": "f5070cb4",
   "metadata": {
    "execution": {
     "iopub.execute_input": "2023-05-09T10:39:13.485784Z",
     "iopub.status.busy": "2023-05-09T10:39:13.484991Z",
     "iopub.status.idle": "2023-05-09T10:39:13.496718Z",
     "shell.execute_reply": "2023-05-09T10:39:13.495550Z"
    },
    "papermill": {
     "duration": 0.026583,
     "end_time": "2023-05-09T10:39:13.498806",
     "exception": false,
     "start_time": "2023-05-09T10:39:13.472223",
     "status": "completed"
    },
    "tags": []
   },
   "outputs": [
    {
     "name": "stdout",
     "output_type": "stream",
     "text": [
      "193 193\n"
     ]
    }
   ],
   "source": [
    "# SD2GPT2 (https://www.kaggle.com/datasets/xiaozhouwang/sd2gpt2)\n",
    "# Objective embeddings\n",
    "FILES_OBJECTIVE_EMB += sorted(glob.glob(\"/kaggle/input/pub-embeddings-sd2gpt2/all_minilm_l6_v2/*.npy\"))\n",
    "\n",
    "# CLIP text tembeddings\n",
    "FILES_CLIP_EMB += sorted(glob.glob(\"/kaggle/input/pub-embeddings-sd2gpt2/vith14/*.npy\"))\n",
    "print(len(FILES_OBJECTIVE_EMB), len(FILES_CLIP_EMB))"
   ]
  },
  {
   "cell_type": "code",
   "execution_count": 14,
   "id": "a55e27b3",
   "metadata": {
    "execution": {
     "iopub.execute_input": "2023-05-09T10:39:13.524259Z",
     "iopub.status.busy": "2023-05-09T10:39:13.523352Z",
     "iopub.status.idle": "2023-05-09T10:39:13.535458Z",
     "shell.execute_reply": "2023-05-09T10:39:13.534210Z"
    },
    "papermill": {
     "duration": 0.026877,
     "end_time": "2023-05-09T10:39:13.537523",
     "exception": false,
     "start_time": "2023-05-09T10:39:13.510646",
     "status": "completed"
    },
    "tags": []
   },
   "outputs": [
    {
     "name": "stdout",
     "output_type": "stream",
     "text": [
      "194 194\n"
     ]
    }
   ],
   "source": [
    "# SD2Hardcode (https://www.kaggle.com/datasets/xiaozhouwang/sd2hardcode)\n",
    "# Objective embeddings\n",
    "FILES_OBJECTIVE_EMB += sorted(glob.glob(\"/kaggle/input/pub-embeddings-sd2hardcode/all_minilm_l6_v2/*.npy\"))\n",
    "\n",
    "# CLIP text tembeddings\n",
    "FILES_CLIP_EMB += sorted(glob.glob(\"/kaggle/input/pub-embeddings-sd2hardcode/vith14/*.npy\"))\n",
    "print(len(FILES_OBJECTIVE_EMB), len(FILES_CLIP_EMB))"
   ]
  },
  {
   "cell_type": "code",
   "execution_count": 15,
   "id": "d888c119",
   "metadata": {
    "execution": {
     "iopub.execute_input": "2023-05-09T10:39:13.563591Z",
     "iopub.status.busy": "2023-05-09T10:39:13.562648Z",
     "iopub.status.idle": "2023-05-09T10:39:13.573013Z",
     "shell.execute_reply": "2023-05-09T10:39:13.571768Z"
    },
    "papermill": {
     "duration": 0.025457,
     "end_time": "2023-05-09T10:39:13.575054",
     "exception": false,
     "start_time": "2023-05-09T10:39:13.549597",
     "status": "completed"
    },
    "tags": []
   },
   "outputs": [
    {
     "name": "stdout",
     "output_type": "stream",
     "text": [
      "195 195\n"
     ]
    }
   ],
   "source": [
    "# ChatGPT (https://www.kaggle.com/competitions/stable-diffusion-image-to-prompts/discussion/402146)\n",
    "# Objective embeddings\n",
    "FILES_OBJECTIVE_EMB += sorted(glob.glob(\"/kaggle/input/pub-embeddings-chatgpt/all_minilm_l6_v2/*.npy\"))\n",
    "\n",
    "# CLIP text tembeddings\n",
    "FILES_CLIP_EMB += sorted(glob.glob(\"/kaggle/input/pub-embeddings-chatgpt/vith14/*.npy\"))\n",
    "print(len(FILES_OBJECTIVE_EMB), len(FILES_CLIP_EMB))\n"
   ]
  },
  {
   "cell_type": "code",
   "execution_count": 16,
   "id": "5b690204",
   "metadata": {
    "execution": {
     "iopub.execute_input": "2023-05-09T10:39:13.600972Z",
     "iopub.status.busy": "2023-05-09T10:39:13.600386Z",
     "iopub.status.idle": "2023-05-09T10:39:13.713245Z",
     "shell.execute_reply": "2023-05-09T10:39:13.711954Z"
    },
    "papermill": {
     "duration": 0.128565,
     "end_time": "2023-05-09T10:39:13.715733",
     "exception": false,
     "start_time": "2023-05-09T10:39:13.587168",
     "status": "completed"
    },
    "tags": []
   },
   "outputs": [
    {
     "name": "stdout",
     "output_type": "stream",
     "text": [
      "665 665\n"
     ]
    }
   ],
   "source": [
    "# Laion2B-en (https://huggingface.co/datasets/laion/laion2B-en)\n",
    "# (part0000-part0050 of 2000)\n",
    "\n",
    "# Objective embeddings\n",
    "FILES_OBJECTIVE_EMB += sorted(glob.glob(f\"/kaggle/input/pub-embeddings-laion2b-part0000-0004/all_minilm_l6_v2/*.npy\"))\n",
    "FILES_OBJECTIVE_EMB += sorted(glob.glob(f\"/kaggle/input/pub-embeddings-laion2b-part0005-0009/all_minilm_l6_v2/*.npy\"))\n",
    "FILES_OBJECTIVE_EMB += sorted(glob.glob(f\"/kaggle/input/pub-embeddings-laion2b-part0010-0014/all_minilm_l6_v2/*.npy\"))\n",
    "FILES_OBJECTIVE_EMB += sorted(glob.glob(f\"/kaggle/input/pub-embeddings-laion2b-part0015-0019/all_minilm_l6_v2/*.npy\"))\n",
    "FILES_OBJECTIVE_EMB += sorted(glob.glob(f\"/kaggle/input/pub-embeddings-laion2b-part0020-0024/all_minilm_l6_v2/*.npy\"))\n",
    "FILES_OBJECTIVE_EMB += sorted(glob.glob(f\"/kaggle/input/pub-embeddings-laion2b-part0025-0029/all_minilm_l6_v2/*.npy\"))\n",
    "FILES_OBJECTIVE_EMB += sorted(glob.glob(f\"/kaggle/input/pub-embeddings-laion2b-part0030-0034/all_minilm_l6_v2/*.npy\"))\n",
    "FILES_OBJECTIVE_EMB += sorted(glob.glob(f\"/kaggle/input/pub-embeddings-laion2b-part0035-0039/all_minilm_l6_v2/*.npy\"))\n",
    "FILES_OBJECTIVE_EMB += sorted(glob.glob(f\"/kaggle/input/pub-embeddings-laion2b-part0040-0044/all_minilm_l6_v2/*.npy\"))\n",
    "FILES_OBJECTIVE_EMB += sorted(glob.glob(f\"/kaggle/input/pub-embeddings-laion2b-part0045-0049/all_minilm_l6_v2/*.npy\"))\n",
    "\n",
    "# CLIP text tembeddings\n",
    "FILES_CLIP_EMB += sorted(glob.glob(f\"/kaggle/input/pub-embeddings-laion2b-part0000-0004/vith14/*.npy\"))\n",
    "FILES_CLIP_EMB += sorted(glob.glob(f\"/kaggle/input/pub-embeddings-laion2b-part0005-0009/vith14/*.npy\"))\n",
    "FILES_CLIP_EMB += sorted(glob.glob(f\"/kaggle/input/pub-embeddings-laion2b-part0010-0014/vith14/*.npy\"))\n",
    "FILES_CLIP_EMB += sorted(glob.glob(f\"/kaggle/input/pub-embeddings-laion2b-part0015-0019/vith14/*.npy\"))\n",
    "FILES_CLIP_EMB += sorted(glob.glob(f\"/kaggle/input/pub-embeddings-laion2b-part0020-0024/vith14/*.npy\"))\n",
    "FILES_CLIP_EMB += sorted(glob.glob(f\"/kaggle/input/pub-embeddings-laion2b-part0025-0029/vith14/*.npy\"))\n",
    "FILES_CLIP_EMB += sorted(glob.glob(f\"/kaggle/input/pub-embeddings-laion2b-part0030-0034/vith14/*.npy\"))\n",
    "FILES_CLIP_EMB += sorted(glob.glob(f\"/kaggle/input/pub-embeddings-laion2b-part0035-0039/vith14/*.npy\"))\n",
    "FILES_CLIP_EMB += sorted(glob.glob(f\"/kaggle/input/pub-embeddings-laion2b-part0040-0044/vith14/*.npy\"))\n",
    "FILES_CLIP_EMB += sorted(glob.glob(f\"/kaggle/input/pub-embeddings-laion2b-part0045-0049/vith14/*.npy\"))\n",
    "print(len(FILES_OBJECTIVE_EMB), len(FILES_CLIP_EMB))"
   ]
  },
  {
   "cell_type": "code",
   "execution_count": 17,
   "id": "e9cb9b42",
   "metadata": {
    "execution": {
     "iopub.execute_input": "2023-05-09T10:39:13.766589Z",
     "iopub.status.busy": "2023-05-09T10:39:13.765576Z",
     "iopub.status.idle": "2023-05-09T10:39:13.774583Z",
     "shell.execute_reply": "2023-05-09T10:39:13.773609Z"
    },
    "papermill": {
     "duration": 0.024316,
     "end_time": "2023-05-09T10:39:13.776763",
     "exception": false,
     "start_time": "2023-05-09T10:39:13.752447",
     "status": "completed"
    },
    "tags": []
   },
   "outputs": [
    {
     "name": "stdout",
     "output_type": "stream",
     "text": [
      "7\n"
     ]
    }
   ],
   "source": [
    "test_images = list(Path('/kaggle/input/stable-diffusion-image-to-prompts/images').glob('*.png'))\n",
    "print(len(test_images))"
   ]
  },
  {
   "cell_type": "code",
   "execution_count": 18,
   "id": "4a0077f4",
   "metadata": {
    "execution": {
     "iopub.execute_input": "2023-05-09T10:39:13.802807Z",
     "iopub.status.busy": "2023-05-09T10:39:13.801973Z",
     "iopub.status.idle": "2023-05-09T10:39:38.630944Z",
     "shell.execute_reply": "2023-05-09T10:39:38.629899Z"
    },
    "papermill": {
     "duration": 24.844812,
     "end_time": "2023-05-09T10:39:38.633550",
     "exception": false,
     "start_time": "2023-05-09T10:39:13.788738",
     "status": "completed"
    },
    "tags": []
   },
   "outputs": [],
   "source": [
    "# load CLIP vision model (Laion/ViTH14)\n",
    "clip_model = torch.jit.load(CFG.clip_model_path).cuda()\n",
    "clip_model = clip_model.cuda().eval().half();"
   ]
  },
  {
   "cell_type": "code",
   "execution_count": 19,
   "id": "84811ced",
   "metadata": {
    "execution": {
     "iopub.execute_input": "2023-05-09T10:39:38.659813Z",
     "iopub.status.busy": "2023-05-09T10:39:38.659495Z",
     "iopub.status.idle": "2023-05-09T10:39:38.672362Z",
     "shell.execute_reply": "2023-05-09T10:39:38.671441Z"
    },
    "papermill": {
     "duration": 0.035862,
     "end_time": "2023-05-09T10:39:38.681882",
     "exception": false,
     "start_time": "2023-05-09T10:39:38.646020",
     "status": "completed"
    },
    "tags": []
   },
   "outputs": [
    {
     "data": {
      "text/plain": [
       "Compose(\n",
       "    Resize(size=224, interpolation=bicubic, max_size=None, antialias=None)\n",
       "    CenterCrop(size=(224, 224))\n",
       "    <function _convert_to_rgb at 0x74461869c290>\n",
       "    ToTensor()\n",
       "    Normalize(mean=(0.48145466, 0.4578275, 0.40821073), std=(0.26862954, 0.26130258, 0.27577711))\n",
       ")"
      ]
     },
     "execution_count": 19,
     "metadata": {},
     "output_type": "execute_result"
    }
   ],
   "source": [
    "# load transforms from pickele\n",
    "with open(CFG.clip_preproc_pkl, \"rb\") as fp:\n",
    "    saved_preprocess = pickle.load(fp)\n",
    "saved_preprocess"
   ]
  },
  {
   "cell_type": "code",
   "execution_count": 20,
   "id": "f1a32dd4",
   "metadata": {
    "execution": {
     "iopub.execute_input": "2023-05-09T10:39:38.708507Z",
     "iopub.status.busy": "2023-05-09T10:39:38.708138Z",
     "iopub.status.idle": "2023-05-09T10:39:46.603903Z",
     "shell.execute_reply": "2023-05-09T10:39:46.602750Z"
    },
    "papermill": {
     "duration": 7.914203,
     "end_time": "2023-05-09T10:39:46.608718",
     "exception": false,
     "start_time": "2023-05-09T10:39:38.694515",
     "status": "completed"
    },
    "tags": []
   },
   "outputs": [
    {
     "data": {
      "application/vnd.jupyter.widget-view+json": {
       "model_id": "f3251f5a332949119f280f5fd537c7bd",
       "version_major": 2,
       "version_minor": 0
      },
      "text/plain": [
       "  0%|          | 0/7 [00:00<?, ?it/s]"
      ]
     },
     "metadata": {},
     "output_type": "display_data"
    },
    {
     "name": "stdout",
     "output_type": "stream",
     "text": [
      "(7, 1024)\n"
     ]
    }
   ],
   "source": [
    "# Inference with CLIP vision encoder\n",
    "test_vision_embeddings = []\n",
    "for test_image in tqdm(test_images):\n",
    "    image = Image.open( test_image )\n",
    "    prep = saved_preprocess(image).unsqueeze(0).to(device)\n",
    "    embedding = clip_model(prep.half())\n",
    "    test_vision_embeddings.append( embedding.detach().cpu().numpy() )\n",
    "test_vision_embeddings = np.concatenate(test_vision_embeddings).astype(np.float16)\n",
    "print(test_vision_embeddings.shape)"
   ]
  },
  {
   "cell_type": "code",
   "execution_count": 21,
   "id": "aef0a96f",
   "metadata": {
    "execution": {
     "iopub.execute_input": "2023-05-09T10:39:46.635289Z",
     "iopub.status.busy": "2023-05-09T10:39:46.634986Z",
     "iopub.status.idle": "2023-05-09T10:39:47.099252Z",
     "shell.execute_reply": "2023-05-09T10:39:47.097974Z"
    },
    "papermill": {
     "duration": 0.480439,
     "end_time": "2023-05-09T10:39:47.102107",
     "exception": false,
     "start_time": "2023-05-09T10:39:46.621668",
     "status": "completed"
    },
    "tags": []
   },
   "outputs": [
    {
     "data": {
      "text/plain": [
       "5257"
      ]
     },
     "execution_count": 21,
     "metadata": {},
     "output_type": "execute_result"
    }
   ],
   "source": [
    "del clip_model, prep, image, embedding\n",
    "gc.collect()"
   ]
  },
  {
   "cell_type": "code",
   "execution_count": 22,
   "id": "7c751187",
   "metadata": {
    "execution": {
     "iopub.execute_input": "2023-05-09T10:39:47.129319Z",
     "iopub.status.busy": "2023-05-09T10:39:47.128543Z",
     "iopub.status.idle": "2023-05-09T10:39:47.136188Z",
     "shell.execute_reply": "2023-05-09T10:39:47.135257Z"
    },
    "papermill": {
     "duration": 0.023702,
     "end_time": "2023-05-09T10:39:47.138503",
     "exception": false,
     "start_time": "2023-05-09T10:39:47.114801",
     "status": "completed"
    },
    "tags": []
   },
   "outputs": [
    {
     "name": "stdout",
     "output_type": "stream",
     "text": [
      "!!! Debug mode !!!\n",
      "len(FILES_OBJECTIVE_EMB)=5\n",
      "len(FILES_CLIP_EMB)=5\n"
     ]
    }
   ],
   "source": [
    "# Reduce the number of files as debugging.\n",
    "if test_vision_embeddings.shape[0] == 7:   # 7 public test images\n",
    "    FILES_OBJECTIVE_EMB = FILES_OBJECTIVE_EMB[:5]\n",
    "    FILES_CLIP_EMB = FILES_CLIP_EMB[:5]\n",
    "    print(f\"!!! Debug mode !!!\")\n",
    "    print(f\"len(FILES_OBJECTIVE_EMB)={len(FILES_OBJECTIVE_EMB)}\")\n",
    "    print(f\"len(FILES_CLIP_EMB)={len(FILES_CLIP_EMB)}\")"
   ]
  },
  {
   "cell_type": "code",
   "execution_count": 23,
   "id": "148eeba1",
   "metadata": {
    "execution": {
     "iopub.execute_input": "2023-05-09T10:39:47.191172Z",
     "iopub.status.busy": "2023-05-09T10:39:47.190623Z",
     "iopub.status.idle": "2023-05-09T10:39:47.202923Z",
     "shell.execute_reply": "2023-05-09T10:39:47.202022Z"
    },
    "papermill": {
     "duration": 0.028351,
     "end_time": "2023-05-09T10:39:47.205031",
     "exception": false,
     "start_time": "2023-05-09T10:39:47.176680",
     "status": "completed"
    },
    "tags": []
   },
   "outputs": [],
   "source": [
    "def predict_local_knn(\n",
    "    ref_x_embeddings, test_x_embeddings, \n",
    "    n_neighbors=CFG.knn_topk,\n",
    "    interval=CFG.knn_interval,\n",
    "    distance_dim=CFG.knn_dim,\n",
    "    coef=1.0, # a coef to prevent from overflow\n",
    "):\n",
    "    \n",
    "    # convert to tensor\n",
    "    ref_x_embeddings = torch.from_numpy(ref_x_embeddings).to('cuda')\n",
    "    ref_x_embeddings /= ref_x_embeddings.norm(dim=-1, keepdim=True)\n",
    "    \n",
    "    n_iter = test_x_embeddings.shape[0]//interval\n",
    "    if test_x_embeddings.shape[0]%interval != 0:\n",
    "        n_iter += 1\n",
    "        \n",
    "    dist_topk_store = []\n",
    "    idxs_topk_store = []\n",
    "    weights_store = []\n",
    "    preds = []\n",
    "    delta = 0.0001\n",
    "    for i in range(n_iter):\n",
    "        batch_test_embeddings = torch.from_numpy(\n",
    "            test_x_embeddings[i*interval:(i+1)*interval, :].copy()\n",
    "        ).to('cuda')\n",
    "        batch_test_embeddings /= batch_test_embeddings.norm(dim=-1, keepdim=True)\n",
    "        \n",
    "        # calc distance matrix\n",
    "        dists = 1 - torch.mm(batch_test_embeddings, ref_x_embeddings.T) # dists.shape=[N_test, N_ref]\n",
    "        del batch_test_embeddings\n",
    "        gc.collect()\n",
    "        \n",
    "        # get topk indecies and distance\n",
    "        dist_topk, idxs_topk = torch.topk(dists, n_neighbors, largest=False, dim=-1)\n",
    "        dist_topk = dist_topk.to(torch.float64)        \n",
    "        \n",
    "        # calc weights from distance\n",
    "        weights = 1/(dist_topk**distance_dim+delta)*coef\n",
    "        weights[ dist_topk < 0 ] = delta\n",
    "        \n",
    "        dist_topk_store.append( dist_topk.to('cpu').detach().numpy().copy() )\n",
    "        idxs_topk_store.append( idxs_topk.to('cpu').detach().numpy().copy() )\n",
    "        weights_store.append( weights.to('cpu').detach().numpy().copy() )\n",
    "                \n",
    "        del dists, weights, dist_topk, idxs_topk\n",
    "        torch.cuda.empty_cache()\n",
    "        gc.collect()\n",
    "        \n",
    "    del ref_x_embeddings\n",
    "    torch.cuda.empty_cache()\n",
    "    gc.collect()\n",
    "    return np.concatenate(dist_topk_store), np.concatenate(idxs_topk_store), np.concatenate(weights_store)"
   ]
  },
  {
   "cell_type": "code",
   "execution_count": 24,
   "id": "ee3d227f",
   "metadata": {
    "execution": {
     "iopub.execute_input": "2023-05-09T10:39:47.231916Z",
     "iopub.status.busy": "2023-05-09T10:39:47.231346Z",
     "iopub.status.idle": "2023-05-09T10:40:09.441757Z",
     "shell.execute_reply": "2023-05-09T10:40:09.440689Z"
    },
    "papermill": {
     "duration": 22.226852,
     "end_time": "2023-05-09T10:40:09.444382",
     "exception": false,
     "start_time": "2023-05-09T10:39:47.217530",
     "status": "completed"
    },
    "tags": []
   },
   "outputs": [
    {
     "data": {
      "application/vnd.jupyter.widget-view+json": {
       "model_id": "82d1c996bc154533bce59c81e78499ec",
       "version_major": 2,
       "version_minor": 0
      },
      "text/plain": [
       "  0%|          | 0/5 [00:00<?, ?it/s]"
      ]
     },
     "metadata": {},
     "output_type": "display_data"
    }
   ],
   "source": [
    "for i_file, file_clip_emb in enumerate(tqdm(FILES_CLIP_EMB)):\n",
    "    # Local k-NN (for each CLIP embeddings file VS CLIP vision embeddings of test images)\n",
    "    ref_clip_embeddings = np.load(file_clip_emb).astype(np.float16)\n",
    "    with torch.no_grad():\n",
    "        local_dists, local_emb_indecies, local_weights = predict_local_knn(\n",
    "            ref_clip_embeddings, test_vision_embeddings,\n",
    "            n_neighbors=CFG.knn_topk, interval=CFG.knn_interval, distance_dim=CFG.knn_dim,\n",
    "            coef=0.001\n",
    "        )\n",
    "    local_files = np.zeros(local_dists.shape, dtype=np.int32) + i_file\n",
    "    \n",
    "    # merge local k-NN into global k-NN\n",
    "    if i_file == 0:\n",
    "        global_files = local_files\n",
    "        global_dists = local_dists\n",
    "        global_emb_indecies = local_emb_indecies\n",
    "        global_weights = local_weights\n",
    "    else:\n",
    "        global_files = np.concatenate([global_files, local_files], axis=-1)\n",
    "        global_dists = np.concatenate([global_dists, local_dists], axis=-1)\n",
    "        global_emb_indecies = np.concatenate([global_emb_indecies, local_emb_indecies], axis=-1)\n",
    "        global_weights = np.concatenate([global_weights, local_weights], axis=-1)\n",
    "\n",
    "        unsorted_min_indices = np.argpartition(global_dists, CFG.knn_topk, axis=1)[:, :CFG.knn_topk]\n",
    "\n",
    "        global_files = np.vstack( [ global_files[i, unsorted_min_indices[i,:]] for i in range(unsorted_min_indices.shape[0]) ])\n",
    "        global_dists = np.vstack( [ global_dists[i, unsorted_min_indices[i,:]] for i in range(unsorted_min_indices.shape[0]) ])\n",
    "        global_emb_indecies = np.vstack( [ global_emb_indecies[i, unsorted_min_indices[i,:]] for i in range(unsorted_min_indices.shape[0]) ])\n",
    "        global_weights = np.vstack( [ global_weights[i, unsorted_min_indices[i,:]] for i in range(unsorted_min_indices.shape[0]) ])\n",
    "    \n",
    "    gc.collect()"
   ]
  },
  {
   "cell_type": "code",
   "execution_count": 25,
   "id": "18380aab",
   "metadata": {
    "execution": {
     "iopub.execute_input": "2023-05-09T10:40:09.472202Z",
     "iopub.status.busy": "2023-05-09T10:40:09.471261Z",
     "iopub.status.idle": "2023-05-09T10:40:09.504595Z",
     "shell.execute_reply": "2023-05-09T10:40:09.503459Z"
    },
    "papermill": {
     "duration": 0.049775,
     "end_time": "2023-05-09T10:40:09.507228",
     "exception": false,
     "start_time": "2023-05-09T10:40:09.457453",
     "status": "completed"
    },
    "tags": []
   },
   "outputs": [
    {
     "data": {
      "text/html": [
       "<div>\n",
       "<style scoped>\n",
       "    .dataframe tbody tr th:only-of-type {\n",
       "        vertical-align: middle;\n",
       "    }\n",
       "\n",
       "    .dataframe tbody tr th {\n",
       "        vertical-align: top;\n",
       "    }\n",
       "\n",
       "    .dataframe thead th {\n",
       "        text-align: right;\n",
       "    }\n",
       "</style>\n",
       "<table border=\"1\" class=\"dataframe\">\n",
       "  <thead>\n",
       "    <tr style=\"text-align: right;\">\n",
       "      <th></th>\n",
       "      <th>file</th>\n",
       "      <th>dist</th>\n",
       "      <th>emb_index</th>\n",
       "      <th>test_index</th>\n",
       "      <th>weight</th>\n",
       "    </tr>\n",
       "  </thead>\n",
       "  <tbody>\n",
       "    <tr>\n",
       "      <th>0</th>\n",
       "      <td>/kaggle/input/pub-embeddings-diffusiondb-14m-p...</td>\n",
       "      <td>0.716797</td>\n",
       "      <td>35943</td>\n",
       "      <td>0</td>\n",
       "      <td>0.007367</td>\n",
       "    </tr>\n",
       "    <tr>\n",
       "      <th>1</th>\n",
       "      <td>/kaggle/input/pub-embeddings-diffusiondb-14m-p...</td>\n",
       "      <td>0.726562</td>\n",
       "      <td>60517</td>\n",
       "      <td>0</td>\n",
       "      <td>0.006793</td>\n",
       "    </tr>\n",
       "    <tr>\n",
       "      <th>2</th>\n",
       "      <td>/kaggle/input/pub-embeddings-diffusiondb-14m-p...</td>\n",
       "      <td>0.709961</td>\n",
       "      <td>98421</td>\n",
       "      <td>0</td>\n",
       "      <td>0.007803</td>\n",
       "    </tr>\n",
       "    <tr>\n",
       "      <th>3</th>\n",
       "      <td>/kaggle/input/pub-embeddings-diffusiondb-14m-p...</td>\n",
       "      <td>0.709961</td>\n",
       "      <td>98420</td>\n",
       "      <td>0</td>\n",
       "      <td>0.007803</td>\n",
       "    </tr>\n",
       "    <tr>\n",
       "      <th>4</th>\n",
       "      <td>/kaggle/input/pub-embeddings-diffusiondb-14m-p...</td>\n",
       "      <td>0.709961</td>\n",
       "      <td>98419</td>\n",
       "      <td>0</td>\n",
       "      <td>0.007803</td>\n",
       "    </tr>\n",
       "    <tr>\n",
       "      <th>...</th>\n",
       "      <td>...</td>\n",
       "      <td>...</td>\n",
       "      <td>...</td>\n",
       "      <td>...</td>\n",
       "      <td>...</td>\n",
       "    </tr>\n",
       "    <tr>\n",
       "      <th>695</th>\n",
       "      <td>/kaggle/input/pub-embeddings-diffusiondb-14m-p...</td>\n",
       "      <td>0.644531</td>\n",
       "      <td>22745</td>\n",
       "      <td>6</td>\n",
       "      <td>0.013929</td>\n",
       "    </tr>\n",
       "    <tr>\n",
       "      <th>696</th>\n",
       "      <td>/kaggle/input/pub-embeddings-diffusiondb-14m-p...</td>\n",
       "      <td>0.670898</td>\n",
       "      <td>23578</td>\n",
       "      <td>6</td>\n",
       "      <td>0.010954</td>\n",
       "    </tr>\n",
       "    <tr>\n",
       "      <th>697</th>\n",
       "      <td>/kaggle/input/pub-embeddings-diffusiondb-14m-p...</td>\n",
       "      <td>0.670898</td>\n",
       "      <td>23582</td>\n",
       "      <td>6</td>\n",
       "      <td>0.010954</td>\n",
       "    </tr>\n",
       "    <tr>\n",
       "      <th>698</th>\n",
       "      <td>/kaggle/input/pub-embeddings-diffusiondb-14m-p...</td>\n",
       "      <td>0.670898</td>\n",
       "      <td>23575</td>\n",
       "      <td>6</td>\n",
       "      <td>0.010954</td>\n",
       "    </tr>\n",
       "    <tr>\n",
       "      <th>699</th>\n",
       "      <td>/kaggle/input/pub-embeddings-diffusiondb-14m-p...</td>\n",
       "      <td>0.670898</td>\n",
       "      <td>23577</td>\n",
       "      <td>6</td>\n",
       "      <td>0.010954</td>\n",
       "    </tr>\n",
       "  </tbody>\n",
       "</table>\n",
       "<p>700 rows × 5 columns</p>\n",
       "</div>"
      ],
      "text/plain": [
       "                                                  file      dist  emb_index  \\\n",
       "0    /kaggle/input/pub-embeddings-diffusiondb-14m-p...  0.716797      35943   \n",
       "1    /kaggle/input/pub-embeddings-diffusiondb-14m-p...  0.726562      60517   \n",
       "2    /kaggle/input/pub-embeddings-diffusiondb-14m-p...  0.709961      98421   \n",
       "3    /kaggle/input/pub-embeddings-diffusiondb-14m-p...  0.709961      98420   \n",
       "4    /kaggle/input/pub-embeddings-diffusiondb-14m-p...  0.709961      98419   \n",
       "..                                                 ...       ...        ...   \n",
       "695  /kaggle/input/pub-embeddings-diffusiondb-14m-p...  0.644531      22745   \n",
       "696  /kaggle/input/pub-embeddings-diffusiondb-14m-p...  0.670898      23578   \n",
       "697  /kaggle/input/pub-embeddings-diffusiondb-14m-p...  0.670898      23582   \n",
       "698  /kaggle/input/pub-embeddings-diffusiondb-14m-p...  0.670898      23575   \n",
       "699  /kaggle/input/pub-embeddings-diffusiondb-14m-p...  0.670898      23577   \n",
       "\n",
       "     test_index    weight  \n",
       "0             0  0.007367  \n",
       "1             0  0.006793  \n",
       "2             0  0.007803  \n",
       "3             0  0.007803  \n",
       "4             0  0.007803  \n",
       "..          ...       ...  \n",
       "695           6  0.013929  \n",
       "696           6  0.010954  \n",
       "697           6  0.010954  \n",
       "698           6  0.010954  \n",
       "699           6  0.010954  \n",
       "\n",
       "[700 rows x 5 columns]"
      ]
     },
     "execution_count": 25,
     "metadata": {},
     "output_type": "execute_result"
    }
   ],
   "source": [
    "df_knn = pd.DataFrame()\n",
    "df_knn[\"file\"] = global_files.flatten()\n",
    "df_knn[\"file\"] = df_knn['file'].apply(lambda x: FILES_OBJECTIVE_EMB[x])\n",
    "df_knn[\"dist\"] = global_dists.flatten()\n",
    "df_knn[\"emb_index\"] = global_emb_indecies.flatten()\n",
    "df_knn[\"test_index\"] = np.array([ [val]*CFG.knn_topk for val in range(test_vision_embeddings.shape[0])]).flatten()\n",
    "df_knn[\"weight\"] = global_weights.flatten()\n",
    "df_knn"
   ]
  },
  {
   "cell_type": "code",
   "execution_count": 26,
   "id": "84711230",
   "metadata": {
    "execution": {
     "iopub.execute_input": "2023-05-09T10:40:09.535006Z",
     "iopub.status.busy": "2023-05-09T10:40:09.534692Z",
     "iopub.status.idle": "2023-05-09T10:40:09.691963Z",
     "shell.execute_reply": "2023-05-09T10:40:09.690840Z"
    },
    "papermill": {
     "duration": 0.173505,
     "end_time": "2023-05-09T10:40:09.694088",
     "exception": false,
     "start_time": "2023-05-09T10:40:09.520583",
     "status": "completed"
    },
    "tags": []
   },
   "outputs": [
    {
     "data": {
      "text/plain": [
       "39"
      ]
     },
     "execution_count": 26,
     "metadata": {},
     "output_type": "execute_result"
    }
   ],
   "source": [
    "gc.collect()"
   ]
  },
  {
   "cell_type": "code",
   "execution_count": 27,
   "id": "796d6c37",
   "metadata": {
    "execution": {
     "iopub.execute_input": "2023-05-09T10:40:09.722087Z",
     "iopub.status.busy": "2023-05-09T10:40:09.721759Z",
     "iopub.status.idle": "2023-05-09T10:40:12.917845Z",
     "shell.execute_reply": "2023-05-09T10:40:12.916692Z"
    },
    "papermill": {
     "duration": 3.212889,
     "end_time": "2023-05-09T10:40:12.920521",
     "exception": false,
     "start_time": "2023-05-09T10:40:09.707632",
     "status": "completed"
    },
    "tags": []
   },
   "outputs": [
    {
     "data": {
      "application/vnd.jupyter.widget-view+json": {
       "model_id": "6d06d235309942ca9af967077e966a93",
       "version_major": 2,
       "version_minor": 0
      },
      "text/plain": [
       "  0%|          | 0/5 [00:00<?, ?it/s]"
      ]
     },
     "metadata": {},
     "output_type": "display_data"
    }
   ],
   "source": [
    "# k-NN regression\n",
    "test_prompt_embeddings = np.zeros( (test_vision_embeddings.shape[0], 384))\n",
    "for (objective_emb_file, gdf) in tqdm(df_knn.groupby(\"file\")):\n",
    "    ref_objective_embeddings = np.load(objective_emb_file).astype(np.float16) \n",
    "    for _, r in gdf.iterrows():\n",
    "        test_prompt_embeddings[int(r.test_index), :] += r.weight * ref_objective_embeddings[int(r.emb_index), :]"
   ]
  },
  {
   "cell_type": "code",
   "execution_count": 28,
   "id": "1d85f487",
   "metadata": {
    "execution": {
     "iopub.execute_input": "2023-05-09T10:40:12.949293Z",
     "iopub.status.busy": "2023-05-09T10:40:12.948381Z",
     "iopub.status.idle": "2023-05-09T10:40:13.106366Z",
     "shell.execute_reply": "2023-05-09T10:40:13.105381Z"
    },
    "papermill": {
     "duration": 0.174625,
     "end_time": "2023-05-09T10:40:13.108725",
     "exception": false,
     "start_time": "2023-05-09T10:40:12.934100",
     "status": "completed"
    },
    "tags": []
   },
   "outputs": [
    {
     "data": {
      "text/plain": [
       "122"
      ]
     },
     "execution_count": 28,
     "metadata": {},
     "output_type": "execute_result"
    }
   ],
   "source": [
    "# L2 norm\n",
    "BS=1000\n",
    "num = test_prompt_embeddings.shape[0] // BS\n",
    "if test_prompt_embeddings.shape[0] % BS != 0:\n",
    "    num+=1\n",
    "for i in range(num):\n",
    "    embeddings = test_prompt_embeddings[i*BS:(i+1)*BS, :]\n",
    "    embeddings = embeddings / ( np.abs(embeddings).max(axis=-1, keepdims=True) + 0.0000001)\n",
    "    embeddings = normalize( embeddings )\n",
    "    test_prompt_embeddings[i*BS:(i+1)*BS, :] = embeddings\n",
    "    \n",
    "gc.collect()"
   ]
  },
  {
   "cell_type": "code",
   "execution_count": 29,
   "id": "bba73af4",
   "metadata": {
    "execution": {
     "iopub.execute_input": "2023-05-09T10:40:13.137358Z",
     "iopub.status.busy": "2023-05-09T10:40:13.136482Z",
     "iopub.status.idle": "2023-05-09T10:40:13.141564Z",
     "shell.execute_reply": "2023-05-09T10:40:13.140473Z"
    },
    "papermill": {
     "duration": 0.021591,
     "end_time": "2023-05-09T10:40:13.143803",
     "exception": false,
     "start_time": "2023-05-09T10:40:13.122212",
     "status": "completed"
    },
    "tags": []
   },
   "outputs": [],
   "source": [
    "test_prompt_embeddings = test_prompt_embeddings.flatten()"
   ]
  },
  {
   "cell_type": "code",
   "execution_count": null,
   "id": "298fe96b",
   "metadata": {
    "papermill": {
     "duration": 0.013483,
     "end_time": "2023-05-09T10:40:13.170650",
     "exception": false,
     "start_time": "2023-05-09T10:40:13.157167",
     "status": "completed"
    },
    "tags": []
   },
   "outputs": [],
   "source": []
  },
  {
   "cell_type": "code",
   "execution_count": 30,
   "id": "2e226c34",
   "metadata": {
    "execution": {
     "iopub.execute_input": "2023-05-09T10:40:13.201003Z",
     "iopub.status.busy": "2023-05-09T10:40:13.200631Z",
     "iopub.status.idle": "2023-05-09T10:40:13.206430Z",
     "shell.execute_reply": "2023-05-09T10:40:13.205457Z"
    },
    "papermill": {
     "duration": 0.022637,
     "end_time": "2023-05-09T10:40:13.208570",
     "exception": false,
     "start_time": "2023-05-09T10:40:13.185933",
     "status": "completed"
    },
    "tags": []
   },
   "outputs": [],
   "source": [
    "wheels_path = \"/kaggle/input/clip-interrogator-wheels-x\"\n",
    "clip_interrogator_whl_path = f\"{wheels_path}/clip_interrogator-0.4.3-py3-none-any.whl\""
   ]
  },
  {
   "cell_type": "code",
   "execution_count": 31,
   "id": "59aa81a9",
   "metadata": {
    "execution": {
     "iopub.execute_input": "2023-05-09T10:40:13.236720Z",
     "iopub.status.busy": "2023-05-09T10:40:13.236365Z",
     "iopub.status.idle": "2023-05-09T10:40:22.690432Z",
     "shell.execute_reply": "2023-05-09T10:40:22.689169Z"
    },
    "papermill": {
     "duration": 9.471289,
     "end_time": "2023-05-09T10:40:22.693252",
     "exception": false,
     "start_time": "2023-05-09T10:40:13.221963",
     "status": "completed"
    },
    "tags": []
   },
   "outputs": [
    {
     "name": "stdout",
     "output_type": "stream",
     "text": [
      "\u001b[33mWARNING: Running pip as the 'root' user can result in broken permissions and conflicting behaviour with the system package manager. It is recommended to use a virtual environment instead: https://pip.pypa.io/warnings/venv\u001b[0m\u001b[33m\r\n",
      "\u001b[0m"
     ]
    }
   ],
   "source": [
    "!pip install --no-index --find-links $wheels_path $clip_interrogator_whl_path -q"
   ]
  },
  {
   "cell_type": "code",
   "execution_count": 32,
   "id": "249b7d05",
   "metadata": {
    "execution": {
     "iopub.execute_input": "2023-05-09T10:40:22.721967Z",
     "iopub.status.busy": "2023-05-09T10:40:22.721610Z",
     "iopub.status.idle": "2023-05-09T10:40:22.786438Z",
     "shell.execute_reply": "2023-05-09T10:40:22.785415Z"
    },
    "papermill": {
     "duration": 0.082147,
     "end_time": "2023-05-09T10:40:22.789012",
     "exception": false,
     "start_time": "2023-05-09T10:40:22.706865",
     "status": "completed"
    },
    "tags": []
   },
   "outputs": [],
   "source": [
    "import inspect\n",
    "import importlib\n",
    "\n",
    "from blip.models import blip\n",
    "from clip_interrogator import clip_interrogator"
   ]
  },
  {
   "cell_type": "code",
   "execution_count": 33,
   "id": "610a9d69",
   "metadata": {
    "execution": {
     "iopub.execute_input": "2023-05-09T10:40:22.817863Z",
     "iopub.status.busy": "2023-05-09T10:40:22.817044Z",
     "iopub.status.idle": "2023-05-09T10:40:22.829420Z",
     "shell.execute_reply": "2023-05-09T10:40:22.828329Z"
    },
    "papermill": {
     "duration": 0.029008,
     "end_time": "2023-05-09T10:40:22.831549",
     "exception": false,
     "start_time": "2023-05-09T10:40:22.802541",
     "status": "completed"
    },
    "tags": []
   },
   "outputs": [
    {
     "data": {
      "text/plain": [
       "<module 'blip.models.blip' from '/opt/conda/lib/python3.7/site-packages/blip/models/blip.py'>"
      ]
     },
     "execution_count": 33,
     "metadata": {},
     "output_type": "execute_result"
    }
   ],
   "source": [
    "# replace tokenizer path to prevent downloading\n",
    "blip_path = inspect.getfile(blip)\n",
    "\n",
    "fin = open(blip_path, \"rt\")\n",
    "data = fin.read()\n",
    "data = data.replace(\n",
    "    \"BertTokenizer.from_pretrained('bert-base-uncased')\", \n",
    "    \"BertTokenizer.from_pretrained('/kaggle/input/clip-interrogator-models-x/bert-base-uncased')\"\n",
    ")\n",
    "fin.close()\n",
    "\n",
    "fin = open(blip_path, \"wt\")\n",
    "fin.write(data)\n",
    "fin.close()\n",
    "\n",
    "# reload module\n",
    "importlib.reload(blip)"
   ]
  },
  {
   "cell_type": "code",
   "execution_count": 34,
   "id": "f7efa92a",
   "metadata": {
    "execution": {
     "iopub.execute_input": "2023-05-09T10:40:22.860104Z",
     "iopub.status.busy": "2023-05-09T10:40:22.859224Z",
     "iopub.status.idle": "2023-05-09T10:40:22.875111Z",
     "shell.execute_reply": "2023-05-09T10:40:22.874094Z"
    },
    "papermill": {
     "duration": 0.032325,
     "end_time": "2023-05-09T10:40:22.877270",
     "exception": false,
     "start_time": "2023-05-09T10:40:22.844945",
     "status": "completed"
    },
    "tags": []
   },
   "outputs": [
    {
     "data": {
      "text/plain": [
       "<module 'clip_interrogator.clip_interrogator' from '/opt/conda/lib/python3.7/site-packages/clip_interrogator/clip_interrogator.py'>"
      ]
     },
     "execution_count": 34,
     "metadata": {},
     "output_type": "execute_result"
    }
   ],
   "source": [
    "# fix clip_interrogator bug\n",
    "clip_interrogator_path = inspect.getfile(clip_interrogator.Interrogator)\n",
    "\n",
    "fin = open(clip_interrogator_path, \"rt\")\n",
    "data = fin.read()\n",
    "data = data.replace(\n",
    "    'open_clip.get_tokenizer(clip_model_name)', \n",
    "    'open_clip.get_tokenizer(config.clip_model_name.split(\"/\", 2)[0])'\n",
    ")\n",
    "fin.close()\n",
    "\n",
    "fin = open(clip_interrogator_path, \"wt\")\n",
    "fin.write(data)\n",
    "fin.close()\n",
    "\n",
    "# reload module\n",
    "importlib.reload(clip_interrogator)"
   ]
  },
  {
   "cell_type": "code",
   "execution_count": 35,
   "id": "a428c5e5",
   "metadata": {
    "execution": {
     "iopub.execute_input": "2023-05-09T10:40:22.906039Z",
     "iopub.status.busy": "2023-05-09T10:40:22.905189Z",
     "iopub.status.idle": "2023-05-09T10:40:23.652256Z",
     "shell.execute_reply": "2023-05-09T10:40:23.651244Z"
    },
    "papermill": {
     "duration": 0.76423,
     "end_time": "2023-05-09T10:40:23.655045",
     "exception": false,
     "start_time": "2023-05-09T10:40:22.890815",
     "status": "completed"
    },
    "tags": []
   },
   "outputs": [],
   "source": [
    "import os\n",
    "import sys\n",
    "from PIL import Image\n",
    "from pathlib import Path\n",
    "import matplotlib.pyplot as plt \n",
    "\n",
    "import numpy as np\n",
    "import pandas as pd\n",
    "import torch\n",
    "import open_clip\n",
    "\n",
    "sys.path.append('../input/sentence-transformers-222/sentence-transformers')\n",
    "from sentence_transformers import SentenceTransformer, models\n",
    "\n",
    "comp_path = Path('/kaggle/input/stable-diffusion-image-to-prompts/')"
   ]
  },
  {
   "cell_type": "code",
   "execution_count": 36,
   "id": "ff09cda4",
   "metadata": {
    "execution": {
     "iopub.execute_input": "2023-05-09T10:40:23.683890Z",
     "iopub.status.busy": "2023-05-09T10:40:23.683583Z",
     "iopub.status.idle": "2023-05-09T10:40:23.689002Z",
     "shell.execute_reply": "2023-05-09T10:40:23.687885Z"
    },
    "papermill": {
     "duration": 0.022217,
     "end_time": "2023-05-09T10:40:23.691189",
     "exception": false,
     "start_time": "2023-05-09T10:40:23.668972",
     "status": "completed"
    },
    "tags": []
   },
   "outputs": [],
   "source": [
    "class CFG:\n",
    "    device = \"cuda\"\n",
    "    seed = 42\n",
    "    embedding_length = 384\n",
    "    sentence_model_path = \"/kaggle/input/sentence-transformers-222/all-MiniLM-L6-v2\"\n",
    "    blip_model_path = \"/kaggle/input/clip-interrogator-models-x/model_large_caption.pth\"\n",
    "    ci_clip_model_name = \"ViT-H-14/laion2b_s32b_b79k\"\n",
    "    clip_model_name = \"ViT-H-14\"\n",
    "    clip_model_path = \"/kaggle/input/clip-interrogator-models-x/CLIP-ViT-H-14-laion2B-s32B-b79K/open_clip_pytorch_model.bin\"\n",
    "    cache_path = \"/kaggle/input/clip-interrogator-models-x\""
   ]
  },
  {
   "cell_type": "code",
   "execution_count": 37,
   "id": "6b7bdc6a",
   "metadata": {
    "execution": {
     "iopub.execute_input": "2023-05-09T10:40:23.719235Z",
     "iopub.status.busy": "2023-05-09T10:40:23.718954Z",
     "iopub.status.idle": "2023-05-09T10:40:23.740283Z",
     "shell.execute_reply": "2023-05-09T10:40:23.739186Z"
    },
    "papermill": {
     "duration": 0.037897,
     "end_time": "2023-05-09T10:40:23.742552",
     "exception": false,
     "start_time": "2023-05-09T10:40:23.704655",
     "status": "completed"
    },
    "tags": []
   },
   "outputs": [
    {
     "data": {
      "text/html": [
       "<div>\n",
       "<style scoped>\n",
       "    .dataframe tbody tr th:only-of-type {\n",
       "        vertical-align: middle;\n",
       "    }\n",
       "\n",
       "    .dataframe tbody tr th {\n",
       "        vertical-align: top;\n",
       "    }\n",
       "\n",
       "    .dataframe thead th {\n",
       "        text-align: right;\n",
       "    }\n",
       "</style>\n",
       "<table border=\"1\" class=\"dataframe\">\n",
       "  <thead>\n",
       "    <tr style=\"text-align: right;\">\n",
       "      <th></th>\n",
       "      <th>val</th>\n",
       "    </tr>\n",
       "    <tr>\n",
       "      <th>imgId_eId</th>\n",
       "      <th></th>\n",
       "    </tr>\n",
       "  </thead>\n",
       "  <tbody>\n",
       "    <tr>\n",
       "      <th>20057f34d_0</th>\n",
       "      <td>0.018848</td>\n",
       "    </tr>\n",
       "    <tr>\n",
       "      <th>20057f34d_1</th>\n",
       "      <td>0.030190</td>\n",
       "    </tr>\n",
       "    <tr>\n",
       "      <th>20057f34d_2</th>\n",
       "      <td>0.072792</td>\n",
       "    </tr>\n",
       "    <tr>\n",
       "      <th>20057f34d_3</th>\n",
       "      <td>-0.000673</td>\n",
       "    </tr>\n",
       "    <tr>\n",
       "      <th>20057f34d_4</th>\n",
       "      <td>0.016774</td>\n",
       "    </tr>\n",
       "  </tbody>\n",
       "</table>\n",
       "</div>"
      ],
      "text/plain": [
       "                  val\n",
       "imgId_eId            \n",
       "20057f34d_0  0.018848\n",
       "20057f34d_1  0.030190\n",
       "20057f34d_2  0.072792\n",
       "20057f34d_3 -0.000673\n",
       "20057f34d_4  0.016774"
      ]
     },
     "execution_count": 37,
     "metadata": {},
     "output_type": "execute_result"
    }
   ],
   "source": [
    "df_submission = pd.read_csv(comp_path / 'sample_submission.csv', index_col='imgId_eId')\n",
    "df_submission.head()"
   ]
  },
  {
   "cell_type": "code",
   "execution_count": 38,
   "id": "bf9d1838",
   "metadata": {
    "execution": {
     "iopub.execute_input": "2023-05-09T10:40:23.771679Z",
     "iopub.status.busy": "2023-05-09T10:40:23.771365Z",
     "iopub.status.idle": "2023-05-09T10:40:23.782695Z",
     "shell.execute_reply": "2023-05-09T10:40:23.781787Z"
    },
    "papermill": {
     "duration": 0.028075,
     "end_time": "2023-05-09T10:40:23.784910",
     "exception": false,
     "start_time": "2023-05-09T10:40:23.756835",
     "status": "completed"
    },
    "tags": []
   },
   "outputs": [],
   "source": [
    "images = os.listdir(comp_path / 'images')\n",
    "imgIds = [i.split('.')[0] for i in images]\n",
    "\n",
    "eIds = list(range(CFG.embedding_length))\n",
    "\n",
    "imgId_eId = [\n",
    "    '_'.join(map(str, i)) for i in zip(\n",
    "        np.repeat(imgIds, CFG.embedding_length),\n",
    "        np.tile(range(CFG.embedding_length), len(imgIds))\n",
    "    )\n",
    "]\n",
    "\n",
    "assert sorted(imgId_eId) == sorted(df_submission.index)"
   ]
  },
  {
   "cell_type": "code",
   "execution_count": 39,
   "id": "cfcdc50d",
   "metadata": {
    "execution": {
     "iopub.execute_input": "2023-05-09T10:40:23.813108Z",
     "iopub.status.busy": "2023-05-09T10:40:23.812816Z",
     "iopub.status.idle": "2023-05-09T10:40:25.397839Z",
     "shell.execute_reply": "2023-05-09T10:40:25.396654Z"
    },
    "papermill": {
     "duration": 1.601888,
     "end_time": "2023-05-09T10:40:25.400315",
     "exception": false,
     "start_time": "2023-05-09T10:40:23.798427",
     "status": "completed"
    },
    "tags": []
   },
   "outputs": [],
   "source": [
    "st_model = SentenceTransformer(CFG.sentence_model_path)"
   ]
  },
  {
   "cell_type": "code",
   "execution_count": 40,
   "id": "04f65497",
   "metadata": {
    "execution": {
     "iopub.execute_input": "2023-05-09T10:40:25.429919Z",
     "iopub.status.busy": "2023-05-09T10:40:25.428940Z",
     "iopub.status.idle": "2023-05-09T10:40:25.434803Z",
     "shell.execute_reply": "2023-05-09T10:40:25.433875Z"
    },
    "papermill": {
     "duration": 0.022644,
     "end_time": "2023-05-09T10:40:25.437072",
     "exception": false,
     "start_time": "2023-05-09T10:40:25.414428",
     "status": "completed"
    },
    "tags": []
   },
   "outputs": [],
   "source": [
    "model_config = clip_interrogator.Config(clip_model_name=CFG.ci_clip_model_name)\n",
    "model_config.cache_path = CFG.cache_path"
   ]
  },
  {
   "cell_type": "code",
   "execution_count": 41,
   "id": "7e7ce4eb",
   "metadata": {
    "execution": {
     "iopub.execute_input": "2023-05-09T10:40:25.465508Z",
     "iopub.status.busy": "2023-05-09T10:40:25.465211Z",
     "iopub.status.idle": "2023-05-09T10:40:53.605016Z",
     "shell.execute_reply": "2023-05-09T10:40:53.603968Z"
    },
    "papermill": {
     "duration": 28.157078,
     "end_time": "2023-05-09T10:40:53.607620",
     "exception": false,
     "start_time": "2023-05-09T10:40:25.450542",
     "status": "completed"
    },
    "tags": []
   },
   "outputs": [
    {
     "name": "stdout",
     "output_type": "stream",
     "text": [
      "load checkpoint from /kaggle/input/clip-interrogator-models-x/model_large_caption.pth\n"
     ]
    }
   ],
   "source": [
    "configs_path = os.path.join(os.path.dirname(os.path.dirname(blip_path)), 'configs')\n",
    "med_config = os.path.join(configs_path, 'med_config.json')\n",
    "blip_model = blip.blip_decoder(\n",
    "    pretrained=CFG.blip_model_path,\n",
    "    image_size=model_config.blip_image_eval_size, \n",
    "    vit=model_config.blip_model_type, \n",
    "    med_config=med_config\n",
    ")\n",
    "blip_model.eval()\n",
    "blip_model = blip_model.to(model_config.device)\n",
    "model_config.blip_model = blip_model"
   ]
  },
  {
   "cell_type": "code",
   "execution_count": 42,
   "id": "36c4a544",
   "metadata": {
    "execution": {
     "iopub.execute_input": "2023-05-09T10:40:53.636560Z",
     "iopub.status.busy": "2023-05-09T10:40:53.636241Z",
     "iopub.status.idle": "2023-05-09T10:41:42.131517Z",
     "shell.execute_reply": "2023-05-09T10:41:42.129870Z"
    },
    "papermill": {
     "duration": 48.514794,
     "end_time": "2023-05-09T10:41:42.136430",
     "exception": false,
     "start_time": "2023-05-09T10:40:53.621636",
     "status": "completed"
    },
    "tags": []
   },
   "outputs": [],
   "source": [
    "clip_model = open_clip.create_model(CFG.clip_model_name, precision='fp16' if model_config.device == 'cuda' else 'fp32')\n",
    "open_clip.load_checkpoint(clip_model, CFG.clip_model_path)\n",
    "clip_model.to(model_config.device).eval()\n",
    "model_config.clip_model = clip_model"
   ]
  },
  {
   "cell_type": "code",
   "execution_count": 43,
   "id": "30b3d45e",
   "metadata": {
    "execution": {
     "iopub.execute_input": "2023-05-09T10:41:42.221885Z",
     "iopub.status.busy": "2023-05-09T10:41:42.220665Z",
     "iopub.status.idle": "2023-05-09T10:41:42.229669Z",
     "shell.execute_reply": "2023-05-09T10:41:42.228573Z"
    },
    "papermill": {
     "duration": 0.051937,
     "end_time": "2023-05-09T10:41:42.231770",
     "exception": false,
     "start_time": "2023-05-09T10:41:42.179833",
     "status": "completed"
    },
    "tags": []
   },
   "outputs": [],
   "source": [
    "clip_preprocess = open_clip.image_transform(\n",
    "    clip_model.visual.image_size,\n",
    "    is_train = False,\n",
    "    mean = getattr(clip_model.visual, 'image_mean', None),\n",
    "    std = getattr(clip_model.visual, 'image_std', None),\n",
    ")\n",
    "model_config.clip_preprocess = clip_preprocess"
   ]
  },
  {
   "cell_type": "code",
   "execution_count": 44,
   "id": "694c4abf",
   "metadata": {
    "execution": {
     "iopub.execute_input": "2023-05-09T10:41:42.260875Z",
     "iopub.status.busy": "2023-05-09T10:41:42.260042Z",
     "iopub.status.idle": "2023-05-09T10:41:44.601149Z",
     "shell.execute_reply": "2023-05-09T10:41:44.600080Z"
    },
    "papermill": {
     "duration": 2.357911,
     "end_time": "2023-05-09T10:41:44.603498",
     "exception": false,
     "start_time": "2023-05-09T10:41:42.245587",
     "status": "completed"
    },
    "tags": []
   },
   "outputs": [
    {
     "name": "stdout",
     "output_type": "stream",
     "text": [
      "Loaded CLIP model and data in 2.33 seconds.\n"
     ]
    }
   ],
   "source": [
    "ci = clip_interrogator.Interrogator(model_config)"
   ]
  },
  {
   "cell_type": "code",
   "execution_count": 45,
   "id": "0ecf1cc3",
   "metadata": {
    "execution": {
     "iopub.execute_input": "2023-05-09T10:41:44.632776Z",
     "iopub.status.busy": "2023-05-09T10:41:44.632188Z",
     "iopub.status.idle": "2023-05-09T10:41:45.332722Z",
     "shell.execute_reply": "2023-05-09T10:41:45.331716Z"
    },
    "papermill": {
     "duration": 0.717722,
     "end_time": "2023-05-09T10:41:45.335212",
     "exception": false,
     "start_time": "2023-05-09T10:41:44.617490",
     "status": "completed"
    },
    "tags": []
   },
   "outputs": [],
   "source": [
    "cos = torch.nn.CosineSimilarity(dim=1)\n",
    "\n",
    "mediums_features_array = torch.stack([torch.from_numpy(t) for t in ci.mediums.embeds]).to(ci.device)\n",
    "movements_features_array = torch.stack([torch.from_numpy(t) for t in ci.movements.embeds]).to(ci.device)\n",
    "flavors_features_array = torch.stack([torch.from_numpy(t) for t in ci.flavors.embeds]).to(ci.device)"
   ]
  },
  {
   "cell_type": "code",
   "execution_count": 46,
   "id": "e09f38d0",
   "metadata": {
    "execution": {
     "iopub.execute_input": "2023-05-09T10:41:45.364356Z",
     "iopub.status.busy": "2023-05-09T10:41:45.364036Z",
     "iopub.status.idle": "2023-05-09T10:41:45.371473Z",
     "shell.execute_reply": "2023-05-09T10:41:45.370309Z"
    },
    "papermill": {
     "duration": 0.024495,
     "end_time": "2023-05-09T10:41:45.373672",
     "exception": false,
     "start_time": "2023-05-09T10:41:45.349177",
     "status": "completed"
    },
    "tags": []
   },
   "outputs": [],
   "source": [
    "def interrogate(image: Image) -> str:\n",
    "    caption = ci.generate_caption(image)\n",
    "    image_features = ci.image_to_features(image)\n",
    "    \n",
    "    medium = [ci.mediums.labels[i] for i in cos(image_features, mediums_features_array).topk(1).indices][0]\n",
    "    movement = [ci.movements.labels[i] for i in cos(image_features, movements_features_array).topk(1).indices][0]\n",
    "    flaves = \", \".join([ci.flavors.labels[i] for i in cos(image_features, flavors_features_array).topk(3).indices])\n",
    "\n",
    "    if caption.startswith(medium):\n",
    "        prompt = f\"{caption}, {movement},  {flaves}\"\n",
    "    else:\n",
    "        prompt = f\"{caption}, {medium}, {movement}, {flaves}\"\n",
    "\n",
    "    return clip_interrogator._truncate_to_fit(prompt, ci.tokenize)"
   ]
  },
  {
   "cell_type": "code",
   "execution_count": 47,
   "id": "00c3bb13",
   "metadata": {
    "execution": {
     "iopub.execute_input": "2023-05-09T10:41:45.401899Z",
     "iopub.status.busy": "2023-05-09T10:41:45.401604Z",
     "iopub.status.idle": "2023-05-09T10:41:58.814203Z",
     "shell.execute_reply": "2023-05-09T10:41:58.813076Z"
    },
    "papermill": {
     "duration": 13.429692,
     "end_time": "2023-05-09T10:41:58.816861",
     "exception": false,
     "start_time": "2023-05-09T10:41:45.387169",
     "status": "completed"
    },
    "tags": []
   },
   "outputs": [],
   "source": [
    "prompts = []\n",
    "\n",
    "images_path = \"../input/stable-diffusion-image-to-prompts/images/\"\n",
    "for image_name in images:\n",
    "    img = Image.open(images_path + image_name).convert(\"RGB\")\n",
    "\n",
    "    generated = interrogate(img)\n",
    "    \n",
    "    prompts.append(generated)"
   ]
  },
  {
   "cell_type": "code",
   "execution_count": 48,
   "id": "d7cbbae8",
   "metadata": {
    "execution": {
     "iopub.execute_input": "2023-05-09T10:41:58.848510Z",
     "iopub.status.busy": "2023-05-09T10:41:58.846835Z",
     "iopub.status.idle": "2023-05-09T10:41:58.855559Z",
     "shell.execute_reply": "2023-05-09T10:41:58.854601Z"
    },
    "papermill": {
     "duration": 0.02668,
     "end_time": "2023-05-09T10:41:58.857801",
     "exception": false,
     "start_time": "2023-05-09T10:41:58.831121",
     "status": "completed"
    },
    "tags": []
   },
   "outputs": [],
   "source": [
    "def add_text_limiters(text: str) -> str:\n",
    "    return \" \".join([\n",
    "        word + \"\\n\" if i % 15 == 0 else word \n",
    "        for i, word in enumerate(text.split(\" \"), start=1)\n",
    "    ])\n",
    "\n",
    "def plot_image(image: np.ndarray, original_prompt: str, generated_prompt: str) -> None:\n",
    "    plt.figure(figsize=(10, 10))\n",
    "    plt.imshow(image)\n",
    "    plt.annotate(\n",
    "        \"Original prompt:\\n\" + add_text_limiters(original_prompt) + \"\\n\\nGenerated prompt:\\n\" + add_text_limiters(generated_prompt), \n",
    "        xy=(1.05, 0.5), xycoords='axes fraction', ha='left', va='center', \n",
    "        fontsize=16, rotation=0, color=\"#104a6e\"\n",
    "    )"
   ]
  },
  {
   "cell_type": "code",
   "execution_count": 49,
   "id": "d35dea32",
   "metadata": {
    "execution": {
     "iopub.execute_input": "2023-05-09T10:41:58.887423Z",
     "iopub.status.busy": "2023-05-09T10:41:58.887050Z",
     "iopub.status.idle": "2023-05-09T10:41:58.960704Z",
     "shell.execute_reply": "2023-05-09T10:41:58.959650Z"
    },
    "papermill": {
     "duration": 0.090932,
     "end_time": "2023-05-09T10:41:58.962988",
     "exception": false,
     "start_time": "2023-05-09T10:41:58.872056",
     "status": "completed"
    },
    "tags": []
   },
   "outputs": [
    {
     "data": {
      "application/vnd.jupyter.widget-view+json": {
       "model_id": "8b93ad53741f4244af6e02a5f9d29c80",
       "version_major": 2,
       "version_minor": 0
      },
      "text/plain": [
       "Batches:   0%|          | 0/1 [00:00<?, ?it/s]"
      ]
     },
     "metadata": {},
     "output_type": "display_data"
    }
   ],
   "source": [
    "prompt_embeddings = st_model.encode(prompts).flatten()"
   ]
  },
  {
   "cell_type": "code",
   "execution_count": 50,
   "id": "7c985cc6",
   "metadata": {
    "execution": {
     "iopub.execute_input": "2023-05-09T10:41:58.993178Z",
     "iopub.status.busy": "2023-05-09T10:41:58.992337Z",
     "iopub.status.idle": "2023-05-09T10:41:58.998405Z",
     "shell.execute_reply": "2023-05-09T10:41:58.997453Z"
    },
    "papermill": {
     "duration": 0.023259,
     "end_time": "2023-05-09T10:41:59.000547",
     "exception": false,
     "start_time": "2023-05-09T10:41:58.977288",
     "status": "completed"
    },
    "tags": []
   },
   "outputs": [],
   "source": [
    "import numpy as np\n",
    "import pandas as pd\n",
    "from pathlib import Path\n",
    "from PIL import Image\n",
    "from tqdm.notebook import tqdm\n",
    "import torch\n",
    "from torch.utils.data import Dataset, DataLoader\n",
    "from torchvision import transforms\n",
    "import timm\n",
    "from sklearn.preprocessing import normalize"
   ]
  },
  {
   "cell_type": "code",
   "execution_count": 51,
   "id": "c43f7736",
   "metadata": {
    "execution": {
     "iopub.execute_input": "2023-05-09T10:41:59.029978Z",
     "iopub.status.busy": "2023-05-09T10:41:59.029143Z",
     "iopub.status.idle": "2023-05-09T10:41:59.034169Z",
     "shell.execute_reply": "2023-05-09T10:41:59.033133Z"
    },
    "papermill": {
     "duration": 0.021858,
     "end_time": "2023-05-09T10:41:59.036335",
     "exception": false,
     "start_time": "2023-05-09T10:41:59.014477",
     "status": "completed"
    },
    "tags": []
   },
   "outputs": [],
   "source": [
    "class CFG:\n",
    "    model_path1 = '/kaggle/input/k/shoheiazuma/stable-diffusion-vit-baseline-train/vit_base_patch16_224.pth'\n",
    "    model_name1 = 'vit_base_patch16_224'\n",
    "    input_size1 = 224 \n",
    "    input_size = 384\n",
    "    batch_size = 64"
   ]
  },
  {
   "cell_type": "code",
   "execution_count": 52,
   "id": "6a8a037c",
   "metadata": {
    "execution": {
     "iopub.execute_input": "2023-05-09T10:41:59.066251Z",
     "iopub.status.busy": "2023-05-09T10:41:59.065533Z",
     "iopub.status.idle": "2023-05-09T10:41:59.072558Z",
     "shell.execute_reply": "2023-05-09T10:41:59.071623Z"
    },
    "papermill": {
     "duration": 0.024785,
     "end_time": "2023-05-09T10:41:59.074803",
     "exception": false,
     "start_time": "2023-05-09T10:41:59.050018",
     "status": "completed"
    },
    "tags": []
   },
   "outputs": [],
   "source": [
    "class DiffusionTestDataset(Dataset):\n",
    "    def __init__(self, images, transform):\n",
    "        self.images = images\n",
    "        self.transform = transform\n",
    "    \n",
    "    def __len__(self):\n",
    "        return len(self.images)\n",
    "\n",
    "    def __getitem__(self, idx):\n",
    "        image = Image.open(self.images[idx])\n",
    "        image = self.transform(image)\n",
    "        return image"
   ]
  },
  {
   "cell_type": "code",
   "execution_count": 53,
   "id": "bf8cd0a6",
   "metadata": {
    "execution": {
     "iopub.execute_input": "2023-05-09T10:41:59.104026Z",
     "iopub.status.busy": "2023-05-09T10:41:59.103734Z",
     "iopub.status.idle": "2023-05-09T10:41:59.114308Z",
     "shell.execute_reply": "2023-05-09T10:41:59.113373Z"
    },
    "papermill": {
     "duration": 0.027739,
     "end_time": "2023-05-09T10:41:59.116465",
     "exception": false,
     "start_time": "2023-05-09T10:41:59.088726",
     "status": "completed"
    },
    "tags": []
   },
   "outputs": [],
   "source": [
    "def predict(\n",
    "    images,\n",
    "    model_path,\n",
    "    model_name,\n",
    "    input_size,\n",
    "    batch_size\n",
    "):\n",
    "    device = torch.device('cuda' if torch.cuda.is_available() else 'cpu')\n",
    "    transform = transforms.Compose([\n",
    "        transforms.Resize(input_size),\n",
    "        transforms.RandomHorizontalFlip(p=0.5),\n",
    "        #transforms.RandomRotation(degrees=10),\n",
    "\n",
    "        #transforms.RandomVerticalFlip(p=0.5),\n",
    "        transforms.ToTensor(),\n",
    "        transforms.Normalize([0.485, 0.456, 0.406], [0.229, 0.224, 0.225]),\n",
    "    ])\n",
    "    dataset = DiffusionTestDataset(images, transform)\n",
    "    dataloader = DataLoader(\n",
    "        dataset=dataset,\n",
    "        shuffle=False,\n",
    "        batch_size=batch_size,\n",
    "        pin_memory=True,\n",
    "        num_workers=2,\n",
    "        drop_last=False\n",
    "    )\n",
    "\n",
    "    model = timm.create_model(\n",
    "        model_name,\n",
    "        pretrained=False,\n",
    "        num_classes=384\n",
    "    )\n",
    "    state_dict = torch.load(model_path)\n",
    "    model.load_state_dict(state_dict)\n",
    "    model.to(device)\n",
    "    model.eval()\n",
    "    \n",
    "    tta_preds = None\n",
    "    for _ in range(2):\n",
    "        preds = []\n",
    "        for X in tqdm(dataloader, leave=False):\n",
    "            X = X.to(device)\n",
    "\n",
    "            with torch.no_grad():\n",
    "                X_out = model(X).cpu().numpy()\n",
    "                # L2 normalize -- Start\n",
    "                X_out = X_out / ( np.abs(X_out).max(axis=-1, keepdims=True) + 0.0000001)  # To avoid to overflow at normalize()\n",
    "                X_out = normalize( X_out )\n",
    "                # L2 normalize -- End\n",
    "                preds.append(X_out)\n",
    "                \n",
    "        if tta_preds is None:\n",
    "            tta_preds = np.vstack(preds).flatten()\n",
    "        else:\n",
    "            tta_preds += np.vstack(preds).flatten()\n",
    "    \n",
    "    return tta_preds / 2"
   ]
  },
  {
   "cell_type": "code",
   "execution_count": 54,
   "id": "73813d24",
   "metadata": {
    "execution": {
     "iopub.execute_input": "2023-05-09T10:41:59.147460Z",
     "iopub.status.busy": "2023-05-09T10:41:59.146428Z",
     "iopub.status.idle": "2023-05-09T10:42:05.494024Z",
     "shell.execute_reply": "2023-05-09T10:42:05.492799Z"
    },
    "papermill": {
     "duration": 6.366027,
     "end_time": "2023-05-09T10:42:05.496667",
     "exception": false,
     "start_time": "2023-05-09T10:41:59.130640",
     "status": "completed"
    },
    "tags": []
   },
   "outputs": [
    {
     "data": {
      "application/vnd.jupyter.widget-view+json": {
       "model_id": "cebd90b08f944a89ae59f094b69dc78e",
       "version_major": 2,
       "version_minor": 0
      },
      "text/plain": [
       "  0%|          | 0/1 [00:00<?, ?it/s]"
      ]
     },
     "metadata": {},
     "output_type": "display_data"
    },
    {
     "data": {
      "application/vnd.jupyter.widget-view+json": {
       "model_id": "c2af08d117694cd3ade22993055ab1c5",
       "version_major": 2,
       "version_minor": 0
      },
      "text/plain": [
       "  0%|          | 0/1 [00:00<?, ?it/s]"
      ]
     },
     "metadata": {},
     "output_type": "display_data"
    }
   ],
   "source": [
    "images = list(Path('/kaggle/input/stable-diffusion-image-to-prompts/images').glob('*.png'))\n",
    "embeddings2 = predict(images, CFG.model_path1, CFG.model_name1, CFG.input_size1, CFG.batch_size)"
   ]
  },
  {
   "cell_type": "code",
   "execution_count": 55,
   "id": "3038aadf",
   "metadata": {
    "execution": {
     "iopub.execute_input": "2023-05-09T10:42:05.528291Z",
     "iopub.status.busy": "2023-05-09T10:42:05.527260Z",
     "iopub.status.idle": "2023-05-09T10:42:05.533413Z",
     "shell.execute_reply": "2023-05-09T10:42:05.532424Z"
    },
    "papermill": {
     "duration": 0.023889,
     "end_time": "2023-05-09T10:42:05.535616",
     "exception": false,
     "start_time": "2023-05-09T10:42:05.511727",
     "status": "completed"
    },
    "tags": []
   },
   "outputs": [],
   "source": [
    "test_prompt_embeddings = test_prompt_embeddings*0.60+prompt_embeddings*0.15+embeddings2*0.25"
   ]
  },
  {
   "cell_type": "code",
   "execution_count": null,
   "id": "d81fd47f",
   "metadata": {
    "papermill": {
     "duration": 0.01376,
     "end_time": "2023-05-09T10:42:05.563381",
     "exception": false,
     "start_time": "2023-05-09T10:42:05.549621",
     "status": "completed"
    },
    "tags": []
   },
   "outputs": [],
   "source": []
  },
  {
   "cell_type": "code",
   "execution_count": 56,
   "id": "84d9bd3c",
   "metadata": {
    "execution": {
     "iopub.execute_input": "2023-05-09T10:42:05.594208Z",
     "iopub.status.busy": "2023-05-09T10:42:05.593183Z",
     "iopub.status.idle": "2023-05-09T10:42:05.618772Z",
     "shell.execute_reply": "2023-05-09T10:42:05.617783Z"
    },
    "papermill": {
     "duration": 0.043308,
     "end_time": "2023-05-09T10:42:05.621037",
     "exception": false,
     "start_time": "2023-05-09T10:42:05.577729",
     "status": "completed"
    },
    "tags": []
   },
   "outputs": [],
   "source": [
    "imgIds = [i.stem for i in test_images]\n",
    "EMBEDDING_LENGTH = 384\n",
    "imgId_eId = [\n",
    "    '_'.join(map(str, i)) for i in zip(\n",
    "        np.repeat(imgIds, EMBEDDING_LENGTH),\n",
    "        np.tile(range(EMBEDDING_LENGTH), len(imgIds)))]\n",
    "\n",
    "submission = pd.DataFrame(\n",
    "    index=imgId_eId,\n",
    "    data=test_prompt_embeddings,\n",
    "    columns=['val']\n",
    ").rename_axis('imgId_eId')\n",
    "submission.to_csv('submission.csv')"
   ]
  }
 ],
 "metadata": {
  "kernelspec": {
   "display_name": "Python 3",
   "language": "python",
   "name": "python3"
  },
  "language_info": {
   "codemirror_mode": {
    "name": "ipython",
    "version": 3
   },
   "file_extension": ".py",
   "mimetype": "text/x-python",
   "name": "python",
   "nbconvert_exporter": "python",
   "pygments_lexer": "ipython3",
   "version": "3.7.12"
  },
  "papermill": {
   "default_parameters": {},
   "duration": 209.850082,
   "end_time": "2023-05-09T10:42:09.069954",
   "environment_variables": {},
   "exception": null,
   "input_path": "__notebook__.ipynb",
   "output_path": "__notebook__.ipynb",
   "parameters": {},
   "start_time": "2023-05-09T10:38:39.219872",
   "version": "2.4.0"
  },
  "widgets": {
   "application/vnd.jupyter.widget-state+json": {
    "state": {
     "07bcf17ec6404e38b8858f09b3c74c48": {
      "model_module": "@jupyter-widgets/controls",
      "model_module_version": "1.5.0",
      "model_name": "ProgressStyleModel",
      "state": {
       "_model_module": "@jupyter-widgets/controls",
       "_model_module_version": "1.5.0",
       "_model_name": "ProgressStyleModel",
       "_view_count": null,
       "_view_module": "@jupyter-widgets/base",
       "_view_module_version": "1.2.0",
       "_view_name": "StyleView",
       "bar_color": null,
       "description_width": ""
      }
     },
     "09e9852cb83c47e498150a75eb239072": {
      "model_module": "@jupyter-widgets/base",
      "model_module_version": "1.2.0",
      "model_name": "LayoutModel",
      "state": {
       "_model_module": "@jupyter-widgets/base",
       "_model_module_version": "1.2.0",
       "_model_name": "LayoutModel",
       "_view_count": null,
       "_view_module": "@jupyter-widgets/base",
       "_view_module_version": "1.2.0",
       "_view_name": "LayoutView",
       "align_content": null,
       "align_items": null,
       "align_self": null,
       "border": null,
       "bottom": null,
       "display": null,
       "flex": null,
       "flex_flow": null,
       "grid_area": null,
       "grid_auto_columns": null,
       "grid_auto_flow": null,
       "grid_auto_rows": null,
       "grid_column": null,
       "grid_gap": null,
       "grid_row": null,
       "grid_template_areas": null,
       "grid_template_columns": null,
       "grid_template_rows": null,
       "height": null,
       "justify_content": null,
       "justify_items": null,
       "left": null,
       "margin": null,
       "max_height": null,
       "max_width": null,
       "min_height": null,
       "min_width": null,
       "object_fit": null,
       "object_position": null,
       "order": null,
       "overflow": null,
       "overflow_x": null,
       "overflow_y": null,
       "padding": null,
       "right": null,
       "top": null,
       "visibility": "hidden",
       "width": null
      }
     },
     "0e0e4417572242a1b20c80b19f2dab09": {
      "model_module": "@jupyter-widgets/controls",
      "model_module_version": "1.5.0",
      "model_name": "HTMLModel",
      "state": {
       "_dom_classes": [],
       "_model_module": "@jupyter-widgets/controls",
       "_model_module_version": "1.5.0",
       "_model_name": "HTMLModel",
       "_view_count": null,
       "_view_module": "@jupyter-widgets/controls",
       "_view_module_version": "1.5.0",
       "_view_name": "HTMLView",
       "description": "",
       "description_tooltip": null,
       "layout": "IPY_MODEL_3bdc52203158436b8e9ea8b0a31801f4",
       "placeholder": "​",
       "style": "IPY_MODEL_a6a74fd6f6bd461fbf124226e9b7140d",
       "value": "100%"
      }
     },
     "1478d650c5344a6eab37bc72b5171e13": {
      "model_module": "@jupyter-widgets/base",
      "model_module_version": "1.2.0",
      "model_name": "LayoutModel",
      "state": {
       "_model_module": "@jupyter-widgets/base",
       "_model_module_version": "1.2.0",
       "_model_name": "LayoutModel",
       "_view_count": null,
       "_view_module": "@jupyter-widgets/base",
       "_view_module_version": "1.2.0",
       "_view_name": "LayoutView",
       "align_content": null,
       "align_items": null,
       "align_self": null,
       "border": null,
       "bottom": null,
       "display": null,
       "flex": null,
       "flex_flow": null,
       "grid_area": null,
       "grid_auto_columns": null,
       "grid_auto_flow": null,
       "grid_auto_rows": null,
       "grid_column": null,
       "grid_gap": null,
       "grid_row": null,
       "grid_template_areas": null,
       "grid_template_columns": null,
       "grid_template_rows": null,
       "height": null,
       "justify_content": null,
       "justify_items": null,
       "left": null,
       "margin": null,
       "max_height": null,
       "max_width": null,
       "min_height": null,
       "min_width": null,
       "object_fit": null,
       "object_position": null,
       "order": null,
       "overflow": null,
       "overflow_x": null,
       "overflow_y": null,
       "padding": null,
       "right": null,
       "top": null,
       "visibility": "hidden",
       "width": null
      }
     },
     "14f682ff1c7c40559620592e5100ad71": {
      "model_module": "@jupyter-widgets/base",
      "model_module_version": "1.2.0",
      "model_name": "LayoutModel",
      "state": {
       "_model_module": "@jupyter-widgets/base",
       "_model_module_version": "1.2.0",
       "_model_name": "LayoutModel",
       "_view_count": null,
       "_view_module": "@jupyter-widgets/base",
       "_view_module_version": "1.2.0",
       "_view_name": "LayoutView",
       "align_content": null,
       "align_items": null,
       "align_self": null,
       "border": null,
       "bottom": null,
       "display": null,
       "flex": null,
       "flex_flow": null,
       "grid_area": null,
       "grid_auto_columns": null,
       "grid_auto_flow": null,
       "grid_auto_rows": null,
       "grid_column": null,
       "grid_gap": null,
       "grid_row": null,
       "grid_template_areas": null,
       "grid_template_columns": null,
       "grid_template_rows": null,
       "height": null,
       "justify_content": null,
       "justify_items": null,
       "left": null,
       "margin": null,
       "max_height": null,
       "max_width": null,
       "min_height": null,
       "min_width": null,
       "object_fit": null,
       "object_position": null,
       "order": null,
       "overflow": null,
       "overflow_x": null,
       "overflow_y": null,
       "padding": null,
       "right": null,
       "top": null,
       "visibility": null,
       "width": null
      }
     },
     "16031af866fa4810864b1234b261b274": {
      "model_module": "@jupyter-widgets/controls",
      "model_module_version": "1.5.0",
      "model_name": "HTMLModel",
      "state": {
       "_dom_classes": [],
       "_model_module": "@jupyter-widgets/controls",
       "_model_module_version": "1.5.0",
       "_model_name": "HTMLModel",
       "_view_count": null,
       "_view_module": "@jupyter-widgets/controls",
       "_view_module_version": "1.5.0",
       "_view_name": "HTMLView",
       "description": "",
       "description_tooltip": null,
       "layout": "IPY_MODEL_22f086fe381e4342b99a7efc28fa3b9d",
       "placeholder": "​",
       "style": "IPY_MODEL_53e6a3d7b7cb4c1093072293b2c56e11",
       "value": "100%"
      }
     },
     "1a739d1d1b2b4ce89290265035fdf9c9": {
      "model_module": "@jupyter-widgets/base",
      "model_module_version": "1.2.0",
      "model_name": "LayoutModel",
      "state": {
       "_model_module": "@jupyter-widgets/base",
       "_model_module_version": "1.2.0",
       "_model_name": "LayoutModel",
       "_view_count": null,
       "_view_module": "@jupyter-widgets/base",
       "_view_module_version": "1.2.0",
       "_view_name": "LayoutView",
       "align_content": null,
       "align_items": null,
       "align_self": null,
       "border": null,
       "bottom": null,
       "display": null,
       "flex": null,
       "flex_flow": null,
       "grid_area": null,
       "grid_auto_columns": null,
       "grid_auto_flow": null,
       "grid_auto_rows": null,
       "grid_column": null,
       "grid_gap": null,
       "grid_row": null,
       "grid_template_areas": null,
       "grid_template_columns": null,
       "grid_template_rows": null,
       "height": null,
       "justify_content": null,
       "justify_items": null,
       "left": null,
       "margin": null,
       "max_height": null,
       "max_width": null,
       "min_height": null,
       "min_width": null,
       "object_fit": null,
       "object_position": null,
       "order": null,
       "overflow": null,
       "overflow_x": null,
       "overflow_y": null,
       "padding": null,
       "right": null,
       "top": null,
       "visibility": null,
       "width": null
      }
     },
     "1a9b614ae650403493c324bc6159ee4f": {
      "model_module": "@jupyter-widgets/controls",
      "model_module_version": "1.5.0",
      "model_name": "DescriptionStyleModel",
      "state": {
       "_model_module": "@jupyter-widgets/controls",
       "_model_module_version": "1.5.0",
       "_model_name": "DescriptionStyleModel",
       "_view_count": null,
       "_view_module": "@jupyter-widgets/base",
       "_view_module_version": "1.2.0",
       "_view_name": "StyleView",
       "description_width": ""
      }
     },
     "1ec83908673845f99c3cb2982c83c367": {
      "model_module": "@jupyter-widgets/controls",
      "model_module_version": "1.5.0",
      "model_name": "DescriptionStyleModel",
      "state": {
       "_model_module": "@jupyter-widgets/controls",
       "_model_module_version": "1.5.0",
       "_model_name": "DescriptionStyleModel",
       "_view_count": null,
       "_view_module": "@jupyter-widgets/base",
       "_view_module_version": "1.2.0",
       "_view_name": "StyleView",
       "description_width": ""
      }
     },
     "22f086fe381e4342b99a7efc28fa3b9d": {
      "model_module": "@jupyter-widgets/base",
      "model_module_version": "1.2.0",
      "model_name": "LayoutModel",
      "state": {
       "_model_module": "@jupyter-widgets/base",
       "_model_module_version": "1.2.0",
       "_model_name": "LayoutModel",
       "_view_count": null,
       "_view_module": "@jupyter-widgets/base",
       "_view_module_version": "1.2.0",
       "_view_name": "LayoutView",
       "align_content": null,
       "align_items": null,
       "align_self": null,
       "border": null,
       "bottom": null,
       "display": null,
       "flex": null,
       "flex_flow": null,
       "grid_area": null,
       "grid_auto_columns": null,
       "grid_auto_flow": null,
       "grid_auto_rows": null,
       "grid_column": null,
       "grid_gap": null,
       "grid_row": null,
       "grid_template_areas": null,
       "grid_template_columns": null,
       "grid_template_rows": null,
       "height": null,
       "justify_content": null,
       "justify_items": null,
       "left": null,
       "margin": null,
       "max_height": null,
       "max_width": null,
       "min_height": null,
       "min_width": null,
       "object_fit": null,
       "object_position": null,
       "order": null,
       "overflow": null,
       "overflow_x": null,
       "overflow_y": null,
       "padding": null,
       "right": null,
       "top": null,
       "visibility": null,
       "width": null
      }
     },
     "283fa62a8311471f9a2c99a8b841e10c": {
      "model_module": "@jupyter-widgets/controls",
      "model_module_version": "1.5.0",
      "model_name": "ProgressStyleModel",
      "state": {
       "_model_module": "@jupyter-widgets/controls",
       "_model_module_version": "1.5.0",
       "_model_name": "ProgressStyleModel",
       "_view_count": null,
       "_view_module": "@jupyter-widgets/base",
       "_view_module_version": "1.2.0",
       "_view_name": "StyleView",
       "bar_color": null,
       "description_width": ""
      }
     },
     "2b920f96498c4655af06eb50f3a88370": {
      "model_module": "@jupyter-widgets/controls",
      "model_module_version": "1.5.0",
      "model_name": "FloatProgressModel",
      "state": {
       "_dom_classes": [],
       "_model_module": "@jupyter-widgets/controls",
       "_model_module_version": "1.5.0",
       "_model_name": "FloatProgressModel",
       "_view_count": null,
       "_view_module": "@jupyter-widgets/controls",
       "_view_module_version": "1.5.0",
       "_view_name": "ProgressView",
       "bar_style": "success",
       "description": "",
       "description_tooltip": null,
       "layout": "IPY_MODEL_6ccf9e7b81fb48fca3a37be5012c1ed0",
       "max": 1,
       "min": 0,
       "orientation": "horizontal",
       "style": "IPY_MODEL_e238780373ec4e4596f6fad8417d67a3",
       "value": 1
      }
     },
     "2dd848e64d444021b4850a0eb6f17e46": {
      "model_module": "@jupyter-widgets/base",
      "model_module_version": "1.2.0",
      "model_name": "LayoutModel",
      "state": {
       "_model_module": "@jupyter-widgets/base",
       "_model_module_version": "1.2.0",
       "_model_name": "LayoutModel",
       "_view_count": null,
       "_view_module": "@jupyter-widgets/base",
       "_view_module_version": "1.2.0",
       "_view_name": "LayoutView",
       "align_content": null,
       "align_items": null,
       "align_self": null,
       "border": null,
       "bottom": null,
       "display": null,
       "flex": null,
       "flex_flow": null,
       "grid_area": null,
       "grid_auto_columns": null,
       "grid_auto_flow": null,
       "grid_auto_rows": null,
       "grid_column": null,
       "grid_gap": null,
       "grid_row": null,
       "grid_template_areas": null,
       "grid_template_columns": null,
       "grid_template_rows": null,
       "height": null,
       "justify_content": null,
       "justify_items": null,
       "left": null,
       "margin": null,
       "max_height": null,
       "max_width": null,
       "min_height": null,
       "min_width": null,
       "object_fit": null,
       "object_position": null,
       "order": null,
       "overflow": null,
       "overflow_x": null,
       "overflow_y": null,
       "padding": null,
       "right": null,
       "top": null,
       "visibility": null,
       "width": null
      }
     },
     "301d3d892a9a4e349d5a5d2bd9ed747f": {
      "model_module": "@jupyter-widgets/controls",
      "model_module_version": "1.5.0",
      "model_name": "HTMLModel",
      "state": {
       "_dom_classes": [],
       "_model_module": "@jupyter-widgets/controls",
       "_model_module_version": "1.5.0",
       "_model_name": "HTMLModel",
       "_view_count": null,
       "_view_module": "@jupyter-widgets/controls",
       "_view_module_version": "1.5.0",
       "_view_name": "HTMLView",
       "description": "",
       "description_tooltip": null,
       "layout": "IPY_MODEL_d04498f1a8ee4d38a248100d484fdf89",
       "placeholder": "​",
       "style": "IPY_MODEL_638915407f65414291701f1d1a1eefcd",
       "value": " 5/5 [00:22&lt;00:00,  4.43s/it]"
      }
     },
     "3325e3d7676c4690954b6460f77c12a9": {
      "model_module": "@jupyter-widgets/base",
      "model_module_version": "1.2.0",
      "model_name": "LayoutModel",
      "state": {
       "_model_module": "@jupyter-widgets/base",
       "_model_module_version": "1.2.0",
       "_model_name": "LayoutModel",
       "_view_count": null,
       "_view_module": "@jupyter-widgets/base",
       "_view_module_version": "1.2.0",
       "_view_name": "LayoutView",
       "align_content": null,
       "align_items": null,
       "align_self": null,
       "border": null,
       "bottom": null,
       "display": null,
       "flex": null,
       "flex_flow": null,
       "grid_area": null,
       "grid_auto_columns": null,
       "grid_auto_flow": null,
       "grid_auto_rows": null,
       "grid_column": null,
       "grid_gap": null,
       "grid_row": null,
       "grid_template_areas": null,
       "grid_template_columns": null,
       "grid_template_rows": null,
       "height": null,
       "justify_content": null,
       "justify_items": null,
       "left": null,
       "margin": null,
       "max_height": null,
       "max_width": null,
       "min_height": null,
       "min_width": null,
       "object_fit": null,
       "object_position": null,
       "order": null,
       "overflow": null,
       "overflow_x": null,
       "overflow_y": null,
       "padding": null,
       "right": null,
       "top": null,
       "visibility": null,
       "width": null
      }
     },
     "3bdc52203158436b8e9ea8b0a31801f4": {
      "model_module": "@jupyter-widgets/base",
      "model_module_version": "1.2.0",
      "model_name": "LayoutModel",
      "state": {
       "_model_module": "@jupyter-widgets/base",
       "_model_module_version": "1.2.0",
       "_model_name": "LayoutModel",
       "_view_count": null,
       "_view_module": "@jupyter-widgets/base",
       "_view_module_version": "1.2.0",
       "_view_name": "LayoutView",
       "align_content": null,
       "align_items": null,
       "align_self": null,
       "border": null,
       "bottom": null,
       "display": null,
       "flex": null,
       "flex_flow": null,
       "grid_area": null,
       "grid_auto_columns": null,
       "grid_auto_flow": null,
       "grid_auto_rows": null,
       "grid_column": null,
       "grid_gap": null,
       "grid_row": null,
       "grid_template_areas": null,
       "grid_template_columns": null,
       "grid_template_rows": null,
       "height": null,
       "justify_content": null,
       "justify_items": null,
       "left": null,
       "margin": null,
       "max_height": null,
       "max_width": null,
       "min_height": null,
       "min_width": null,
       "object_fit": null,
       "object_position": null,
       "order": null,
       "overflow": null,
       "overflow_x": null,
       "overflow_y": null,
       "padding": null,
       "right": null,
       "top": null,
       "visibility": null,
       "width": null
      }
     },
     "492897b13a3d4a96aed76b356045bf30": {
      "model_module": "@jupyter-widgets/controls",
      "model_module_version": "1.5.0",
      "model_name": "DescriptionStyleModel",
      "state": {
       "_model_module": "@jupyter-widgets/controls",
       "_model_module_version": "1.5.0",
       "_model_name": "DescriptionStyleModel",
       "_view_count": null,
       "_view_module": "@jupyter-widgets/base",
       "_view_module_version": "1.2.0",
       "_view_name": "StyleView",
       "description_width": ""
      }
     },
     "4aa9230790084b599d3aa2d56ab942d7": {
      "model_module": "@jupyter-widgets/controls",
      "model_module_version": "1.5.0",
      "model_name": "HTMLModel",
      "state": {
       "_dom_classes": [],
       "_model_module": "@jupyter-widgets/controls",
       "_model_module_version": "1.5.0",
       "_model_name": "HTMLModel",
       "_view_count": null,
       "_view_module": "@jupyter-widgets/controls",
       "_view_module_version": "1.5.0",
       "_view_name": "HTMLView",
       "description": "",
       "description_tooltip": null,
       "layout": "IPY_MODEL_c79ea00d27e847ccb50c5edf7ea253e7",
       "placeholder": "​",
       "style": "IPY_MODEL_aa68d91959204783913096561118b059",
       "value": " 1/1 [00:00&lt;00:00,  2.80it/s]"
      }
     },
     "4d58619a5bd7423490b9be784d30bf82": {
      "model_module": "@jupyter-widgets/controls",
      "model_module_version": "1.5.0",
      "model_name": "ProgressStyleModel",
      "state": {
       "_model_module": "@jupyter-widgets/controls",
       "_model_module_version": "1.5.0",
       "_model_name": "ProgressStyleModel",
       "_view_count": null,
       "_view_module": "@jupyter-widgets/base",
       "_view_module_version": "1.2.0",
       "_view_name": "StyleView",
       "bar_color": null,
       "description_width": ""
      }
     },
     "4de61b590e9445a294af4e5d1a9518f7": {
      "model_module": "@jupyter-widgets/controls",
      "model_module_version": "1.5.0",
      "model_name": "HTMLModel",
      "state": {
       "_dom_classes": [],
       "_model_module": "@jupyter-widgets/controls",
       "_model_module_version": "1.5.0",
       "_model_name": "HTMLModel",
       "_view_count": null,
       "_view_module": "@jupyter-widgets/controls",
       "_view_module_version": "1.5.0",
       "_view_name": "HTMLView",
       "description": "",
       "description_tooltip": null,
       "layout": "IPY_MODEL_7ccccc02de59405987c47fbf58dfe8bc",
       "placeholder": "​",
       "style": "IPY_MODEL_773654ee681646f6adb35937aa578d3c",
       "value": " 1/1 [00:00&lt;00:00, 27.36it/s]"
      }
     },
     "53e6a3d7b7cb4c1093072293b2c56e11": {
      "model_module": "@jupyter-widgets/controls",
      "model_module_version": "1.5.0",
      "model_name": "DescriptionStyleModel",
      "state": {
       "_model_module": "@jupyter-widgets/controls",
       "_model_module_version": "1.5.0",
       "_model_name": "DescriptionStyleModel",
       "_view_count": null,
       "_view_module": "@jupyter-widgets/base",
       "_view_module_version": "1.2.0",
       "_view_name": "StyleView",
       "description_width": ""
      }
     },
     "558adb8802a6413f9577e800bf272afe": {
      "model_module": "@jupyter-widgets/controls",
      "model_module_version": "1.5.0",
      "model_name": "HTMLModel",
      "state": {
       "_dom_classes": [],
       "_model_module": "@jupyter-widgets/controls",
       "_model_module_version": "1.5.0",
       "_model_name": "HTMLModel",
       "_view_count": null,
       "_view_module": "@jupyter-widgets/controls",
       "_view_module_version": "1.5.0",
       "_view_name": "HTMLView",
       "description": "",
       "description_tooltip": null,
       "layout": "IPY_MODEL_f82dfecb18bf44acbb5e24de9fa81bb6",
       "placeholder": "​",
       "style": "IPY_MODEL_1ec83908673845f99c3cb2982c83c367",
       "value": "100%"
      }
     },
     "55f5079c495541cbac36c92a388f3bb1": {
      "model_module": "@jupyter-widgets/controls",
      "model_module_version": "1.5.0",
      "model_name": "HTMLModel",
      "state": {
       "_dom_classes": [],
       "_model_module": "@jupyter-widgets/controls",
       "_model_module_version": "1.5.0",
       "_model_name": "HTMLModel",
       "_view_count": null,
       "_view_module": "@jupyter-widgets/controls",
       "_view_module_version": "1.5.0",
       "_view_name": "HTMLView",
       "description": "",
       "description_tooltip": null,
       "layout": "IPY_MODEL_79b38f5fcfdb4f4997caa24599d07168",
       "placeholder": "​",
       "style": "IPY_MODEL_a7432d66d2b04e9ca32690d66e2a91fa",
       "value": " 7/7 [00:07&lt;00:00,  2.01it/s]"
      }
     },
     "606a1180f7644f87af2f7fd5cac07cc1": {
      "model_module": "@jupyter-widgets/base",
      "model_module_version": "1.2.0",
      "model_name": "LayoutModel",
      "state": {
       "_model_module": "@jupyter-widgets/base",
       "_model_module_version": "1.2.0",
       "_model_name": "LayoutModel",
       "_view_count": null,
       "_view_module": "@jupyter-widgets/base",
       "_view_module_version": "1.2.0",
       "_view_name": "LayoutView",
       "align_content": null,
       "align_items": null,
       "align_self": null,
       "border": null,
       "bottom": null,
       "display": null,
       "flex": null,
       "flex_flow": null,
       "grid_area": null,
       "grid_auto_columns": null,
       "grid_auto_flow": null,
       "grid_auto_rows": null,
       "grid_column": null,
       "grid_gap": null,
       "grid_row": null,
       "grid_template_areas": null,
       "grid_template_columns": null,
       "grid_template_rows": null,
       "height": null,
       "justify_content": null,
       "justify_items": null,
       "left": null,
       "margin": null,
       "max_height": null,
       "max_width": null,
       "min_height": null,
       "min_width": null,
       "object_fit": null,
       "object_position": null,
       "order": null,
       "overflow": null,
       "overflow_x": null,
       "overflow_y": null,
       "padding": null,
       "right": null,
       "top": null,
       "visibility": null,
       "width": null
      }
     },
     "62dc452f67e1497d92d6b1ca01b1898b": {
      "model_module": "@jupyter-widgets/controls",
      "model_module_version": "1.5.0",
      "model_name": "ProgressStyleModel",
      "state": {
       "_model_module": "@jupyter-widgets/controls",
       "_model_module_version": "1.5.0",
       "_model_name": "ProgressStyleModel",
       "_view_count": null,
       "_view_module": "@jupyter-widgets/base",
       "_view_module_version": "1.2.0",
       "_view_name": "StyleView",
       "bar_color": null,
       "description_width": ""
      }
     },
     "638915407f65414291701f1d1a1eefcd": {
      "model_module": "@jupyter-widgets/controls",
      "model_module_version": "1.5.0",
      "model_name": "DescriptionStyleModel",
      "state": {
       "_model_module": "@jupyter-widgets/controls",
       "_model_module_version": "1.5.0",
       "_model_name": "DescriptionStyleModel",
       "_view_count": null,
       "_view_module": "@jupyter-widgets/base",
       "_view_module_version": "1.2.0",
       "_view_name": "StyleView",
       "description_width": ""
      }
     },
     "6ccf9e7b81fb48fca3a37be5012c1ed0": {
      "model_module": "@jupyter-widgets/base",
      "model_module_version": "1.2.0",
      "model_name": "LayoutModel",
      "state": {
       "_model_module": "@jupyter-widgets/base",
       "_model_module_version": "1.2.0",
       "_model_name": "LayoutModel",
       "_view_count": null,
       "_view_module": "@jupyter-widgets/base",
       "_view_module_version": "1.2.0",
       "_view_name": "LayoutView",
       "align_content": null,
       "align_items": null,
       "align_self": null,
       "border": null,
       "bottom": null,
       "display": null,
       "flex": null,
       "flex_flow": null,
       "grid_area": null,
       "grid_auto_columns": null,
       "grid_auto_flow": null,
       "grid_auto_rows": null,
       "grid_column": null,
       "grid_gap": null,
       "grid_row": null,
       "grid_template_areas": null,
       "grid_template_columns": null,
       "grid_template_rows": null,
       "height": null,
       "justify_content": null,
       "justify_items": null,
       "left": null,
       "margin": null,
       "max_height": null,
       "max_width": null,
       "min_height": null,
       "min_width": null,
       "object_fit": null,
       "object_position": null,
       "order": null,
       "overflow": null,
       "overflow_x": null,
       "overflow_y": null,
       "padding": null,
       "right": null,
       "top": null,
       "visibility": null,
       "width": null
      }
     },
     "6d06d235309942ca9af967077e966a93": {
      "model_module": "@jupyter-widgets/controls",
      "model_module_version": "1.5.0",
      "model_name": "HBoxModel",
      "state": {
       "_dom_classes": [],
       "_model_module": "@jupyter-widgets/controls",
       "_model_module_version": "1.5.0",
       "_model_name": "HBoxModel",
       "_view_count": null,
       "_view_module": "@jupyter-widgets/controls",
       "_view_module_version": "1.5.0",
       "_view_name": "HBoxView",
       "box_style": "",
       "children": [
        "IPY_MODEL_558adb8802a6413f9577e800bf272afe",
        "IPY_MODEL_730418af400e4d7a95184b553609e1f6",
        "IPY_MODEL_e9fa83028043449bab0ef1f819516d65"
       ],
       "layout": "IPY_MODEL_fc68af82b6334972ab6b598478713886"
      }
     },
     "730418af400e4d7a95184b553609e1f6": {
      "model_module": "@jupyter-widgets/controls",
      "model_module_version": "1.5.0",
      "model_name": "FloatProgressModel",
      "state": {
       "_dom_classes": [],
       "_model_module": "@jupyter-widgets/controls",
       "_model_module_version": "1.5.0",
       "_model_name": "FloatProgressModel",
       "_view_count": null,
       "_view_module": "@jupyter-widgets/controls",
       "_view_module_version": "1.5.0",
       "_view_name": "ProgressView",
       "bar_style": "success",
       "description": "",
       "description_tooltip": null,
       "layout": "IPY_MODEL_7f446d76ae1444c88a81d3386f02ea1a",
       "max": 5,
       "min": 0,
       "orientation": "horizontal",
       "style": "IPY_MODEL_ea825e93534c44efaf7175d1b3807bbb",
       "value": 5
      }
     },
     "773654ee681646f6adb35937aa578d3c": {
      "model_module": "@jupyter-widgets/controls",
      "model_module_version": "1.5.0",
      "model_name": "DescriptionStyleModel",
      "state": {
       "_model_module": "@jupyter-widgets/controls",
       "_model_module_version": "1.5.0",
       "_model_name": "DescriptionStyleModel",
       "_view_count": null,
       "_view_module": "@jupyter-widgets/base",
       "_view_module_version": "1.2.0",
       "_view_name": "StyleView",
       "description_width": ""
      }
     },
     "79b38f5fcfdb4f4997caa24599d07168": {
      "model_module": "@jupyter-widgets/base",
      "model_module_version": "1.2.0",
      "model_name": "LayoutModel",
      "state": {
       "_model_module": "@jupyter-widgets/base",
       "_model_module_version": "1.2.0",
       "_model_name": "LayoutModel",
       "_view_count": null,
       "_view_module": "@jupyter-widgets/base",
       "_view_module_version": "1.2.0",
       "_view_name": "LayoutView",
       "align_content": null,
       "align_items": null,
       "align_self": null,
       "border": null,
       "bottom": null,
       "display": null,
       "flex": null,
       "flex_flow": null,
       "grid_area": null,
       "grid_auto_columns": null,
       "grid_auto_flow": null,
       "grid_auto_rows": null,
       "grid_column": null,
       "grid_gap": null,
       "grid_row": null,
       "grid_template_areas": null,
       "grid_template_columns": null,
       "grid_template_rows": null,
       "height": null,
       "justify_content": null,
       "justify_items": null,
       "left": null,
       "margin": null,
       "max_height": null,
       "max_width": null,
       "min_height": null,
       "min_width": null,
       "object_fit": null,
       "object_position": null,
       "order": null,
       "overflow": null,
       "overflow_x": null,
       "overflow_y": null,
       "padding": null,
       "right": null,
       "top": null,
       "visibility": null,
       "width": null
      }
     },
     "7ab87c675bfb4329b612c9e6c8ce019c": {
      "model_module": "@jupyter-widgets/base",
      "model_module_version": "1.2.0",
      "model_name": "LayoutModel",
      "state": {
       "_model_module": "@jupyter-widgets/base",
       "_model_module_version": "1.2.0",
       "_model_name": "LayoutModel",
       "_view_count": null,
       "_view_module": "@jupyter-widgets/base",
       "_view_module_version": "1.2.0",
       "_view_name": "LayoutView",
       "align_content": null,
       "align_items": null,
       "align_self": null,
       "border": null,
       "bottom": null,
       "display": null,
       "flex": null,
       "flex_flow": null,
       "grid_area": null,
       "grid_auto_columns": null,
       "grid_auto_flow": null,
       "grid_auto_rows": null,
       "grid_column": null,
       "grid_gap": null,
       "grid_row": null,
       "grid_template_areas": null,
       "grid_template_columns": null,
       "grid_template_rows": null,
       "height": null,
       "justify_content": null,
       "justify_items": null,
       "left": null,
       "margin": null,
       "max_height": null,
       "max_width": null,
       "min_height": null,
       "min_width": null,
       "object_fit": null,
       "object_position": null,
       "order": null,
       "overflow": null,
       "overflow_x": null,
       "overflow_y": null,
       "padding": null,
       "right": null,
       "top": null,
       "visibility": null,
       "width": null
      }
     },
     "7ae517e687564bdfa23223dbdf445bbd": {
      "model_module": "@jupyter-widgets/controls",
      "model_module_version": "1.5.0",
      "model_name": "DescriptionStyleModel",
      "state": {
       "_model_module": "@jupyter-widgets/controls",
       "_model_module_version": "1.5.0",
       "_model_name": "DescriptionStyleModel",
       "_view_count": null,
       "_view_module": "@jupyter-widgets/base",
       "_view_module_version": "1.2.0",
       "_view_name": "StyleView",
       "description_width": ""
      }
     },
     "7ccccc02de59405987c47fbf58dfe8bc": {
      "model_module": "@jupyter-widgets/base",
      "model_module_version": "1.2.0",
      "model_name": "LayoutModel",
      "state": {
       "_model_module": "@jupyter-widgets/base",
       "_model_module_version": "1.2.0",
       "_model_name": "LayoutModel",
       "_view_count": null,
       "_view_module": "@jupyter-widgets/base",
       "_view_module_version": "1.2.0",
       "_view_name": "LayoutView",
       "align_content": null,
       "align_items": null,
       "align_self": null,
       "border": null,
       "bottom": null,
       "display": null,
       "flex": null,
       "flex_flow": null,
       "grid_area": null,
       "grid_auto_columns": null,
       "grid_auto_flow": null,
       "grid_auto_rows": null,
       "grid_column": null,
       "grid_gap": null,
       "grid_row": null,
       "grid_template_areas": null,
       "grid_template_columns": null,
       "grid_template_rows": null,
       "height": null,
       "justify_content": null,
       "justify_items": null,
       "left": null,
       "margin": null,
       "max_height": null,
       "max_width": null,
       "min_height": null,
       "min_width": null,
       "object_fit": null,
       "object_position": null,
       "order": null,
       "overflow": null,
       "overflow_x": null,
       "overflow_y": null,
       "padding": null,
       "right": null,
       "top": null,
       "visibility": null,
       "width": null
      }
     },
     "7f446d76ae1444c88a81d3386f02ea1a": {
      "model_module": "@jupyter-widgets/base",
      "model_module_version": "1.2.0",
      "model_name": "LayoutModel",
      "state": {
       "_model_module": "@jupyter-widgets/base",
       "_model_module_version": "1.2.0",
       "_model_name": "LayoutModel",
       "_view_count": null,
       "_view_module": "@jupyter-widgets/base",
       "_view_module_version": "1.2.0",
       "_view_name": "LayoutView",
       "align_content": null,
       "align_items": null,
       "align_self": null,
       "border": null,
       "bottom": null,
       "display": null,
       "flex": null,
       "flex_flow": null,
       "grid_area": null,
       "grid_auto_columns": null,
       "grid_auto_flow": null,
       "grid_auto_rows": null,
       "grid_column": null,
       "grid_gap": null,
       "grid_row": null,
       "grid_template_areas": null,
       "grid_template_columns": null,
       "grid_template_rows": null,
       "height": null,
       "justify_content": null,
       "justify_items": null,
       "left": null,
       "margin": null,
       "max_height": null,
       "max_width": null,
       "min_height": null,
       "min_width": null,
       "object_fit": null,
       "object_position": null,
       "order": null,
       "overflow": null,
       "overflow_x": null,
       "overflow_y": null,
       "padding": null,
       "right": null,
       "top": null,
       "visibility": null,
       "width": null
      }
     },
     "7fc7cab2ebf949399eaaf0007b94fff5": {
      "model_module": "@jupyter-widgets/base",
      "model_module_version": "1.2.0",
      "model_name": "LayoutModel",
      "state": {
       "_model_module": "@jupyter-widgets/base",
       "_model_module_version": "1.2.0",
       "_model_name": "LayoutModel",
       "_view_count": null,
       "_view_module": "@jupyter-widgets/base",
       "_view_module_version": "1.2.0",
       "_view_name": "LayoutView",
       "align_content": null,
       "align_items": null,
       "align_self": null,
       "border": null,
       "bottom": null,
       "display": null,
       "flex": null,
       "flex_flow": null,
       "grid_area": null,
       "grid_auto_columns": null,
       "grid_auto_flow": null,
       "grid_auto_rows": null,
       "grid_column": null,
       "grid_gap": null,
       "grid_row": null,
       "grid_template_areas": null,
       "grid_template_columns": null,
       "grid_template_rows": null,
       "height": null,
       "justify_content": null,
       "justify_items": null,
       "left": null,
       "margin": null,
       "max_height": null,
       "max_width": null,
       "min_height": null,
       "min_width": null,
       "object_fit": null,
       "object_position": null,
       "order": null,
       "overflow": null,
       "overflow_x": null,
       "overflow_y": null,
       "padding": null,
       "right": null,
       "top": null,
       "visibility": null,
       "width": null
      }
     },
     "82d1c996bc154533bce59c81e78499ec": {
      "model_module": "@jupyter-widgets/controls",
      "model_module_version": "1.5.0",
      "model_name": "HBoxModel",
      "state": {
       "_dom_classes": [],
       "_model_module": "@jupyter-widgets/controls",
       "_model_module_version": "1.5.0",
       "_model_name": "HBoxModel",
       "_view_count": null,
       "_view_module": "@jupyter-widgets/controls",
       "_view_module_version": "1.5.0",
       "_view_name": "HBoxView",
       "box_style": "",
       "children": [
        "IPY_MODEL_ae79da7c873d4aa58a2fbb37ae5617a6",
        "IPY_MODEL_896092c18e3443bf8ffc9a8267aeb69e",
        "IPY_MODEL_301d3d892a9a4e349d5a5d2bd9ed747f"
       ],
       "layout": "IPY_MODEL_c38a1f8f10624ca88713abe3379ac776"
      }
     },
     "896092c18e3443bf8ffc9a8267aeb69e": {
      "model_module": "@jupyter-widgets/controls",
      "model_module_version": "1.5.0",
      "model_name": "FloatProgressModel",
      "state": {
       "_dom_classes": [],
       "_model_module": "@jupyter-widgets/controls",
       "_model_module_version": "1.5.0",
       "_model_name": "FloatProgressModel",
       "_view_count": null,
       "_view_module": "@jupyter-widgets/controls",
       "_view_module_version": "1.5.0",
       "_view_name": "ProgressView",
       "bar_style": "success",
       "description": "",
       "description_tooltip": null,
       "layout": "IPY_MODEL_b78dce539390427eb93be1556aaa516e",
       "max": 5,
       "min": 0,
       "orientation": "horizontal",
       "style": "IPY_MODEL_4d58619a5bd7423490b9be784d30bf82",
       "value": 5
      }
     },
     "8b93ad53741f4244af6e02a5f9d29c80": {
      "model_module": "@jupyter-widgets/controls",
      "model_module_version": "1.5.0",
      "model_name": "HBoxModel",
      "state": {
       "_dom_classes": [],
       "_model_module": "@jupyter-widgets/controls",
       "_model_module_version": "1.5.0",
       "_model_name": "HBoxModel",
       "_view_count": null,
       "_view_module": "@jupyter-widgets/controls",
       "_view_module_version": "1.5.0",
       "_view_name": "HBoxView",
       "box_style": "",
       "children": [
        "IPY_MODEL_d9a06d0d55b4445da041fff837d3bc70",
        "IPY_MODEL_2b920f96498c4655af06eb50f3a88370",
        "IPY_MODEL_4de61b590e9445a294af4e5d1a9518f7"
       ],
       "layout": "IPY_MODEL_7ab87c675bfb4329b612c9e6c8ce019c"
      }
     },
     "8e531b5554ef4d2e9ef6c226f2679227": {
      "model_module": "@jupyter-widgets/base",
      "model_module_version": "1.2.0",
      "model_name": "LayoutModel",
      "state": {
       "_model_module": "@jupyter-widgets/base",
       "_model_module_version": "1.2.0",
       "_model_name": "LayoutModel",
       "_view_count": null,
       "_view_module": "@jupyter-widgets/base",
       "_view_module_version": "1.2.0",
       "_view_name": "LayoutView",
       "align_content": null,
       "align_items": null,
       "align_self": null,
       "border": null,
       "bottom": null,
       "display": null,
       "flex": null,
       "flex_flow": null,
       "grid_area": null,
       "grid_auto_columns": null,
       "grid_auto_flow": null,
       "grid_auto_rows": null,
       "grid_column": null,
       "grid_gap": null,
       "grid_row": null,
       "grid_template_areas": null,
       "grid_template_columns": null,
       "grid_template_rows": null,
       "height": null,
       "justify_content": null,
       "justify_items": null,
       "left": null,
       "margin": null,
       "max_height": null,
       "max_width": null,
       "min_height": null,
       "min_width": null,
       "object_fit": null,
       "object_position": null,
       "order": null,
       "overflow": null,
       "overflow_x": null,
       "overflow_y": null,
       "padding": null,
       "right": null,
       "top": null,
       "visibility": null,
       "width": null
      }
     },
     "8ed4181b35cd4f339638a9af834501ce": {
      "model_module": "@jupyter-widgets/controls",
      "model_module_version": "1.5.0",
      "model_name": "DescriptionStyleModel",
      "state": {
       "_model_module": "@jupyter-widgets/controls",
       "_model_module_version": "1.5.0",
       "_model_name": "DescriptionStyleModel",
       "_view_count": null,
       "_view_module": "@jupyter-widgets/base",
       "_view_module_version": "1.2.0",
       "_view_name": "StyleView",
       "description_width": ""
      }
     },
     "a43e1d81ba7745e8869123b8bbdc0688": {
      "model_module": "@jupyter-widgets/controls",
      "model_module_version": "1.5.0",
      "model_name": "HTMLModel",
      "state": {
       "_dom_classes": [],
       "_model_module": "@jupyter-widgets/controls",
       "_model_module_version": "1.5.0",
       "_model_name": "HTMLModel",
       "_view_count": null,
       "_view_module": "@jupyter-widgets/controls",
       "_view_module_version": "1.5.0",
       "_view_name": "HTMLView",
       "description": "",
       "description_tooltip": null,
       "layout": "IPY_MODEL_8e531b5554ef4d2e9ef6c226f2679227",
       "placeholder": "​",
       "style": "IPY_MODEL_8ed4181b35cd4f339638a9af834501ce",
       "value": "100%"
      }
     },
     "a6a74fd6f6bd461fbf124226e9b7140d": {
      "model_module": "@jupyter-widgets/controls",
      "model_module_version": "1.5.0",
      "model_name": "DescriptionStyleModel",
      "state": {
       "_model_module": "@jupyter-widgets/controls",
       "_model_module_version": "1.5.0",
       "_model_name": "DescriptionStyleModel",
       "_view_count": null,
       "_view_module": "@jupyter-widgets/base",
       "_view_module_version": "1.2.0",
       "_view_name": "StyleView",
       "description_width": ""
      }
     },
     "a7432d66d2b04e9ca32690d66e2a91fa": {
      "model_module": "@jupyter-widgets/controls",
      "model_module_version": "1.5.0",
      "model_name": "DescriptionStyleModel",
      "state": {
       "_model_module": "@jupyter-widgets/controls",
       "_model_module_version": "1.5.0",
       "_model_name": "DescriptionStyleModel",
       "_view_count": null,
       "_view_module": "@jupyter-widgets/base",
       "_view_module_version": "1.2.0",
       "_view_name": "StyleView",
       "description_width": ""
      }
     },
     "aa68d91959204783913096561118b059": {
      "model_module": "@jupyter-widgets/controls",
      "model_module_version": "1.5.0",
      "model_name": "DescriptionStyleModel",
      "state": {
       "_model_module": "@jupyter-widgets/controls",
       "_model_module_version": "1.5.0",
       "_model_name": "DescriptionStyleModel",
       "_view_count": null,
       "_view_module": "@jupyter-widgets/base",
       "_view_module_version": "1.2.0",
       "_view_name": "StyleView",
       "description_width": ""
      }
     },
     "ae79da7c873d4aa58a2fbb37ae5617a6": {
      "model_module": "@jupyter-widgets/controls",
      "model_module_version": "1.5.0",
      "model_name": "HTMLModel",
      "state": {
       "_dom_classes": [],
       "_model_module": "@jupyter-widgets/controls",
       "_model_module_version": "1.5.0",
       "_model_name": "HTMLModel",
       "_view_count": null,
       "_view_module": "@jupyter-widgets/controls",
       "_view_module_version": "1.5.0",
       "_view_name": "HTMLView",
       "description": "",
       "description_tooltip": null,
       "layout": "IPY_MODEL_1a739d1d1b2b4ce89290265035fdf9c9",
       "placeholder": "​",
       "style": "IPY_MODEL_492897b13a3d4a96aed76b356045bf30",
       "value": "100%"
      }
     },
     "b78dce539390427eb93be1556aaa516e": {
      "model_module": "@jupyter-widgets/base",
      "model_module_version": "1.2.0",
      "model_name": "LayoutModel",
      "state": {
       "_model_module": "@jupyter-widgets/base",
       "_model_module_version": "1.2.0",
       "_model_name": "LayoutModel",
       "_view_count": null,
       "_view_module": "@jupyter-widgets/base",
       "_view_module_version": "1.2.0",
       "_view_name": "LayoutView",
       "align_content": null,
       "align_items": null,
       "align_self": null,
       "border": null,
       "bottom": null,
       "display": null,
       "flex": null,
       "flex_flow": null,
       "grid_area": null,
       "grid_auto_columns": null,
       "grid_auto_flow": null,
       "grid_auto_rows": null,
       "grid_column": null,
       "grid_gap": null,
       "grid_row": null,
       "grid_template_areas": null,
       "grid_template_columns": null,
       "grid_template_rows": null,
       "height": null,
       "justify_content": null,
       "justify_items": null,
       "left": null,
       "margin": null,
       "max_height": null,
       "max_width": null,
       "min_height": null,
       "min_width": null,
       "object_fit": null,
       "object_position": null,
       "order": null,
       "overflow": null,
       "overflow_x": null,
       "overflow_y": null,
       "padding": null,
       "right": null,
       "top": null,
       "visibility": null,
       "width": null
      }
     },
     "bb97014d38d24fcb8a2ea8bedc54732e": {
      "model_module": "@jupyter-widgets/controls",
      "model_module_version": "1.5.0",
      "model_name": "FloatProgressModel",
      "state": {
       "_dom_classes": [],
       "_model_module": "@jupyter-widgets/controls",
       "_model_module_version": "1.5.0",
       "_model_name": "FloatProgressModel",
       "_view_count": null,
       "_view_module": "@jupyter-widgets/controls",
       "_view_module_version": "1.5.0",
       "_view_name": "ProgressView",
       "bar_style": "",
       "description": "",
       "description_tooltip": null,
       "layout": "IPY_MODEL_2dd848e64d444021b4850a0eb6f17e46",
       "max": 1,
       "min": 0,
       "orientation": "horizontal",
       "style": "IPY_MODEL_07bcf17ec6404e38b8858f09b3c74c48",
       "value": 1
      }
     },
     "c2af08d117694cd3ade22993055ab1c5": {
      "model_module": "@jupyter-widgets/controls",
      "model_module_version": "1.5.0",
      "model_name": "HBoxModel",
      "state": {
       "_dom_classes": [],
       "_model_module": "@jupyter-widgets/controls",
       "_model_module_version": "1.5.0",
       "_model_name": "HBoxModel",
       "_view_count": null,
       "_view_module": "@jupyter-widgets/controls",
       "_view_module_version": "1.5.0",
       "_view_name": "HBoxView",
       "box_style": "",
       "children": [
        "IPY_MODEL_0e0e4417572242a1b20c80b19f2dab09",
        "IPY_MODEL_bb97014d38d24fcb8a2ea8bedc54732e",
        "IPY_MODEL_e6577ca0e48e4a9e9fc769b71e8623f9"
       ],
       "layout": "IPY_MODEL_09e9852cb83c47e498150a75eb239072"
      }
     },
     "c2b1d72ee9b44af69e7d31b4aec60f21": {
      "model_module": "@jupyter-widgets/controls",
      "model_module_version": "1.5.0",
      "model_name": "FloatProgressModel",
      "state": {
       "_dom_classes": [],
       "_model_module": "@jupyter-widgets/controls",
       "_model_module_version": "1.5.0",
       "_model_name": "FloatProgressModel",
       "_view_count": null,
       "_view_module": "@jupyter-widgets/controls",
       "_view_module_version": "1.5.0",
       "_view_name": "ProgressView",
       "bar_style": "",
       "description": "",
       "description_tooltip": null,
       "layout": "IPY_MODEL_7fc7cab2ebf949399eaaf0007b94fff5",
       "max": 1,
       "min": 0,
       "orientation": "horizontal",
       "style": "IPY_MODEL_62dc452f67e1497d92d6b1ca01b1898b",
       "value": 1
      }
     },
     "c38a1f8f10624ca88713abe3379ac776": {
      "model_module": "@jupyter-widgets/base",
      "model_module_version": "1.2.0",
      "model_name": "LayoutModel",
      "state": {
       "_model_module": "@jupyter-widgets/base",
       "_model_module_version": "1.2.0",
       "_model_name": "LayoutModel",
       "_view_count": null,
       "_view_module": "@jupyter-widgets/base",
       "_view_module_version": "1.2.0",
       "_view_name": "LayoutView",
       "align_content": null,
       "align_items": null,
       "align_self": null,
       "border": null,
       "bottom": null,
       "display": null,
       "flex": null,
       "flex_flow": null,
       "grid_area": null,
       "grid_auto_columns": null,
       "grid_auto_flow": null,
       "grid_auto_rows": null,
       "grid_column": null,
       "grid_gap": null,
       "grid_row": null,
       "grid_template_areas": null,
       "grid_template_columns": null,
       "grid_template_rows": null,
       "height": null,
       "justify_content": null,
       "justify_items": null,
       "left": null,
       "margin": null,
       "max_height": null,
       "max_width": null,
       "min_height": null,
       "min_width": null,
       "object_fit": null,
       "object_position": null,
       "order": null,
       "overflow": null,
       "overflow_x": null,
       "overflow_y": null,
       "padding": null,
       "right": null,
       "top": null,
       "visibility": null,
       "width": null
      }
     },
     "c79ea00d27e847ccb50c5edf7ea253e7": {
      "model_module": "@jupyter-widgets/base",
      "model_module_version": "1.2.0",
      "model_name": "LayoutModel",
      "state": {
       "_model_module": "@jupyter-widgets/base",
       "_model_module_version": "1.2.0",
       "_model_name": "LayoutModel",
       "_view_count": null,
       "_view_module": "@jupyter-widgets/base",
       "_view_module_version": "1.2.0",
       "_view_name": "LayoutView",
       "align_content": null,
       "align_items": null,
       "align_self": null,
       "border": null,
       "bottom": null,
       "display": null,
       "flex": null,
       "flex_flow": null,
       "grid_area": null,
       "grid_auto_columns": null,
       "grid_auto_flow": null,
       "grid_auto_rows": null,
       "grid_column": null,
       "grid_gap": null,
       "grid_row": null,
       "grid_template_areas": null,
       "grid_template_columns": null,
       "grid_template_rows": null,
       "height": null,
       "justify_content": null,
       "justify_items": null,
       "left": null,
       "margin": null,
       "max_height": null,
       "max_width": null,
       "min_height": null,
       "min_width": null,
       "object_fit": null,
       "object_position": null,
       "order": null,
       "overflow": null,
       "overflow_x": null,
       "overflow_y": null,
       "padding": null,
       "right": null,
       "top": null,
       "visibility": null,
       "width": null
      }
     },
     "cc684cde2e3d4391b47c01fa8f1b4b37": {
      "model_module": "@jupyter-widgets/controls",
      "model_module_version": "1.5.0",
      "model_name": "DescriptionStyleModel",
      "state": {
       "_model_module": "@jupyter-widgets/controls",
       "_model_module_version": "1.5.0",
       "_model_name": "DescriptionStyleModel",
       "_view_count": null,
       "_view_module": "@jupyter-widgets/base",
       "_view_module_version": "1.2.0",
       "_view_name": "StyleView",
       "description_width": ""
      }
     },
     "cebd90b08f944a89ae59f094b69dc78e": {
      "model_module": "@jupyter-widgets/controls",
      "model_module_version": "1.5.0",
      "model_name": "HBoxModel",
      "state": {
       "_dom_classes": [],
       "_model_module": "@jupyter-widgets/controls",
       "_model_module_version": "1.5.0",
       "_model_name": "HBoxModel",
       "_view_count": null,
       "_view_module": "@jupyter-widgets/controls",
       "_view_module_version": "1.5.0",
       "_view_name": "HBoxView",
       "box_style": "",
       "children": [
        "IPY_MODEL_16031af866fa4810864b1234b261b274",
        "IPY_MODEL_c2b1d72ee9b44af69e7d31b4aec60f21",
        "IPY_MODEL_4aa9230790084b599d3aa2d56ab942d7"
       ],
       "layout": "IPY_MODEL_1478d650c5344a6eab37bc72b5171e13"
      }
     },
     "d04498f1a8ee4d38a248100d484fdf89": {
      "model_module": "@jupyter-widgets/base",
      "model_module_version": "1.2.0",
      "model_name": "LayoutModel",
      "state": {
       "_model_module": "@jupyter-widgets/base",
       "_model_module_version": "1.2.0",
       "_model_name": "LayoutModel",
       "_view_count": null,
       "_view_module": "@jupyter-widgets/base",
       "_view_module_version": "1.2.0",
       "_view_name": "LayoutView",
       "align_content": null,
       "align_items": null,
       "align_self": null,
       "border": null,
       "bottom": null,
       "display": null,
       "flex": null,
       "flex_flow": null,
       "grid_area": null,
       "grid_auto_columns": null,
       "grid_auto_flow": null,
       "grid_auto_rows": null,
       "grid_column": null,
       "grid_gap": null,
       "grid_row": null,
       "grid_template_areas": null,
       "grid_template_columns": null,
       "grid_template_rows": null,
       "height": null,
       "justify_content": null,
       "justify_items": null,
       "left": null,
       "margin": null,
       "max_height": null,
       "max_width": null,
       "min_height": null,
       "min_width": null,
       "object_fit": null,
       "object_position": null,
       "order": null,
       "overflow": null,
       "overflow_x": null,
       "overflow_y": null,
       "padding": null,
       "right": null,
       "top": null,
       "visibility": null,
       "width": null
      }
     },
     "d9a06d0d55b4445da041fff837d3bc70": {
      "model_module": "@jupyter-widgets/controls",
      "model_module_version": "1.5.0",
      "model_name": "HTMLModel",
      "state": {
       "_dom_classes": [],
       "_model_module": "@jupyter-widgets/controls",
       "_model_module_version": "1.5.0",
       "_model_name": "HTMLModel",
       "_view_count": null,
       "_view_module": "@jupyter-widgets/controls",
       "_view_module_version": "1.5.0",
       "_view_name": "HTMLView",
       "description": "",
       "description_tooltip": null,
       "layout": "IPY_MODEL_606a1180f7644f87af2f7fd5cac07cc1",
       "placeholder": "​",
       "style": "IPY_MODEL_cc684cde2e3d4391b47c01fa8f1b4b37",
       "value": "Batches: 100%"
      }
     },
     "dd3fbf4c6e254b99ba4245f07f4ebd42": {
      "model_module": "@jupyter-widgets/base",
      "model_module_version": "1.2.0",
      "model_name": "LayoutModel",
      "state": {
       "_model_module": "@jupyter-widgets/base",
       "_model_module_version": "1.2.0",
       "_model_name": "LayoutModel",
       "_view_count": null,
       "_view_module": "@jupyter-widgets/base",
       "_view_module_version": "1.2.0",
       "_view_name": "LayoutView",
       "align_content": null,
       "align_items": null,
       "align_self": null,
       "border": null,
       "bottom": null,
       "display": null,
       "flex": null,
       "flex_flow": null,
       "grid_area": null,
       "grid_auto_columns": null,
       "grid_auto_flow": null,
       "grid_auto_rows": null,
       "grid_column": null,
       "grid_gap": null,
       "grid_row": null,
       "grid_template_areas": null,
       "grid_template_columns": null,
       "grid_template_rows": null,
       "height": null,
       "justify_content": null,
       "justify_items": null,
       "left": null,
       "margin": null,
       "max_height": null,
       "max_width": null,
       "min_height": null,
       "min_width": null,
       "object_fit": null,
       "object_position": null,
       "order": null,
       "overflow": null,
       "overflow_x": null,
       "overflow_y": null,
       "padding": null,
       "right": null,
       "top": null,
       "visibility": null,
       "width": null
      }
     },
     "de4682b950c24324a8524d9940cdb8a2": {
      "model_module": "@jupyter-widgets/base",
      "model_module_version": "1.2.0",
      "model_name": "LayoutModel",
      "state": {
       "_model_module": "@jupyter-widgets/base",
       "_model_module_version": "1.2.0",
       "_model_name": "LayoutModel",
       "_view_count": null,
       "_view_module": "@jupyter-widgets/base",
       "_view_module_version": "1.2.0",
       "_view_name": "LayoutView",
       "align_content": null,
       "align_items": null,
       "align_self": null,
       "border": null,
       "bottom": null,
       "display": null,
       "flex": null,
       "flex_flow": null,
       "grid_area": null,
       "grid_auto_columns": null,
       "grid_auto_flow": null,
       "grid_auto_rows": null,
       "grid_column": null,
       "grid_gap": null,
       "grid_row": null,
       "grid_template_areas": null,
       "grid_template_columns": null,
       "grid_template_rows": null,
       "height": null,
       "justify_content": null,
       "justify_items": null,
       "left": null,
       "margin": null,
       "max_height": null,
       "max_width": null,
       "min_height": null,
       "min_width": null,
       "object_fit": null,
       "object_position": null,
       "order": null,
       "overflow": null,
       "overflow_x": null,
       "overflow_y": null,
       "padding": null,
       "right": null,
       "top": null,
       "visibility": null,
       "width": null
      }
     },
     "e17302f862634dd3b97b0c316a1cb301": {
      "model_module": "@jupyter-widgets/controls",
      "model_module_version": "1.5.0",
      "model_name": "FloatProgressModel",
      "state": {
       "_dom_classes": [],
       "_model_module": "@jupyter-widgets/controls",
       "_model_module_version": "1.5.0",
       "_model_name": "FloatProgressModel",
       "_view_count": null,
       "_view_module": "@jupyter-widgets/controls",
       "_view_module_version": "1.5.0",
       "_view_name": "ProgressView",
       "bar_style": "success",
       "description": "",
       "description_tooltip": null,
       "layout": "IPY_MODEL_3325e3d7676c4690954b6460f77c12a9",
       "max": 7,
       "min": 0,
       "orientation": "horizontal",
       "style": "IPY_MODEL_283fa62a8311471f9a2c99a8b841e10c",
       "value": 7
      }
     },
     "e238780373ec4e4596f6fad8417d67a3": {
      "model_module": "@jupyter-widgets/controls",
      "model_module_version": "1.5.0",
      "model_name": "ProgressStyleModel",
      "state": {
       "_model_module": "@jupyter-widgets/controls",
       "_model_module_version": "1.5.0",
       "_model_name": "ProgressStyleModel",
       "_view_count": null,
       "_view_module": "@jupyter-widgets/base",
       "_view_module_version": "1.2.0",
       "_view_name": "StyleView",
       "bar_color": null,
       "description_width": ""
      }
     },
     "e6577ca0e48e4a9e9fc769b71e8623f9": {
      "model_module": "@jupyter-widgets/controls",
      "model_module_version": "1.5.0",
      "model_name": "HTMLModel",
      "state": {
       "_dom_classes": [],
       "_model_module": "@jupyter-widgets/controls",
       "_model_module_version": "1.5.0",
       "_model_name": "HTMLModel",
       "_view_count": null,
       "_view_module": "@jupyter-widgets/controls",
       "_view_module_version": "1.5.0",
       "_view_name": "HTMLView",
       "description": "",
       "description_tooltip": null,
       "layout": "IPY_MODEL_14f682ff1c7c40559620592e5100ad71",
       "placeholder": "​",
       "style": "IPY_MODEL_1a9b614ae650403493c324bc6159ee4f",
       "value": " 1/1 [00:00&lt;00:00,  3.02it/s]"
      }
     },
     "e9fa83028043449bab0ef1f819516d65": {
      "model_module": "@jupyter-widgets/controls",
      "model_module_version": "1.5.0",
      "model_name": "HTMLModel",
      "state": {
       "_dom_classes": [],
       "_model_module": "@jupyter-widgets/controls",
       "_model_module_version": "1.5.0",
       "_model_name": "HTMLModel",
       "_view_count": null,
       "_view_module": "@jupyter-widgets/controls",
       "_view_module_version": "1.5.0",
       "_view_name": "HTMLView",
       "description": "",
       "description_tooltip": null,
       "layout": "IPY_MODEL_dd3fbf4c6e254b99ba4245f07f4ebd42",
       "placeholder": "​",
       "style": "IPY_MODEL_7ae517e687564bdfa23223dbdf445bbd",
       "value": " 5/5 [00:03&lt;00:00,  1.57it/s]"
      }
     },
     "ea825e93534c44efaf7175d1b3807bbb": {
      "model_module": "@jupyter-widgets/controls",
      "model_module_version": "1.5.0",
      "model_name": "ProgressStyleModel",
      "state": {
       "_model_module": "@jupyter-widgets/controls",
       "_model_module_version": "1.5.0",
       "_model_name": "ProgressStyleModel",
       "_view_count": null,
       "_view_module": "@jupyter-widgets/base",
       "_view_module_version": "1.2.0",
       "_view_name": "StyleView",
       "bar_color": null,
       "description_width": ""
      }
     },
     "f3251f5a332949119f280f5fd537c7bd": {
      "model_module": "@jupyter-widgets/controls",
      "model_module_version": "1.5.0",
      "model_name": "HBoxModel",
      "state": {
       "_dom_classes": [],
       "_model_module": "@jupyter-widgets/controls",
       "_model_module_version": "1.5.0",
       "_model_name": "HBoxModel",
       "_view_count": null,
       "_view_module": "@jupyter-widgets/controls",
       "_view_module_version": "1.5.0",
       "_view_name": "HBoxView",
       "box_style": "",
       "children": [
        "IPY_MODEL_a43e1d81ba7745e8869123b8bbdc0688",
        "IPY_MODEL_e17302f862634dd3b97b0c316a1cb301",
        "IPY_MODEL_55f5079c495541cbac36c92a388f3bb1"
       ],
       "layout": "IPY_MODEL_de4682b950c24324a8524d9940cdb8a2"
      }
     },
     "f82dfecb18bf44acbb5e24de9fa81bb6": {
      "model_module": "@jupyter-widgets/base",
      "model_module_version": "1.2.0",
      "model_name": "LayoutModel",
      "state": {
       "_model_module": "@jupyter-widgets/base",
       "_model_module_version": "1.2.0",
       "_model_name": "LayoutModel",
       "_view_count": null,
       "_view_module": "@jupyter-widgets/base",
       "_view_module_version": "1.2.0",
       "_view_name": "LayoutView",
       "align_content": null,
       "align_items": null,
       "align_self": null,
       "border": null,
       "bottom": null,
       "display": null,
       "flex": null,
       "flex_flow": null,
       "grid_area": null,
       "grid_auto_columns": null,
       "grid_auto_flow": null,
       "grid_auto_rows": null,
       "grid_column": null,
       "grid_gap": null,
       "grid_row": null,
       "grid_template_areas": null,
       "grid_template_columns": null,
       "grid_template_rows": null,
       "height": null,
       "justify_content": null,
       "justify_items": null,
       "left": null,
       "margin": null,
       "max_height": null,
       "max_width": null,
       "min_height": null,
       "min_width": null,
       "object_fit": null,
       "object_position": null,
       "order": null,
       "overflow": null,
       "overflow_x": null,
       "overflow_y": null,
       "padding": null,
       "right": null,
       "top": null,
       "visibility": null,
       "width": null
      }
     },
     "fc68af82b6334972ab6b598478713886": {
      "model_module": "@jupyter-widgets/base",
      "model_module_version": "1.2.0",
      "model_name": "LayoutModel",
      "state": {
       "_model_module": "@jupyter-widgets/base",
       "_model_module_version": "1.2.0",
       "_model_name": "LayoutModel",
       "_view_count": null,
       "_view_module": "@jupyter-widgets/base",
       "_view_module_version": "1.2.0",
       "_view_name": "LayoutView",
       "align_content": null,
       "align_items": null,
       "align_self": null,
       "border": null,
       "bottom": null,
       "display": null,
       "flex": null,
       "flex_flow": null,
       "grid_area": null,
       "grid_auto_columns": null,
       "grid_auto_flow": null,
       "grid_auto_rows": null,
       "grid_column": null,
       "grid_gap": null,
       "grid_row": null,
       "grid_template_areas": null,
       "grid_template_columns": null,
       "grid_template_rows": null,
       "height": null,
       "justify_content": null,
       "justify_items": null,
       "left": null,
       "margin": null,
       "max_height": null,
       "max_width": null,
       "min_height": null,
       "min_width": null,
       "object_fit": null,
       "object_position": null,
       "order": null,
       "overflow": null,
       "overflow_x": null,
       "overflow_y": null,
       "padding": null,
       "right": null,
       "top": null,
       "visibility": null,
       "width": null
      }
     }
    },
    "version_major": 2,
    "version_minor": 0
   }
  }
 },
 "nbformat": 4,
 "nbformat_minor": 5
}
